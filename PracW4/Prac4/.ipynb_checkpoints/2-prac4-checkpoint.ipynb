{
 "cells": [
  {
   "cell_type": "markdown",
   "metadata": {},
   "source": [
    "# <span style=\"color:#0b486b\">SIT 112 - Data Science Concepts</span>\n",
    "\n",
    "---\n",
    "Lecturer: Truyen Tran | truyen.tran@deakin.edu.au<br />\n",
    "\n",
    "\n",
    "School of Information Technology, <br />\n",
    "Deakin University, VIC 3215, Australia.\n",
    "\n",
    "---"
   ]
  },
  {
   "cell_type": "markdown",
   "metadata": {},
   "source": [
    "## <span style=\"color:#0b486b\">Practical Session 4: Skills you need to deal with the data</span>\n",
    "\n",
    "**The purpose of this session is to teach you:**\n",
    "\n",
    "* Become familiar with numpy package\n",
    "* Become familiar with matplotlib pasckage\n",
    "* Gain an understanding of the availability of data sources: rss feed, public data domain\n",
    "* Be able to: load, .xls, .csv and .json and export them into different data format\n",
    "* Plot a histogram and a boxplot\n",
    "---"
   ]
  },
  {
   "cell_type": "markdown",
   "metadata": {},
   "source": [
    "## <span style=\"color:#0b486b\">1. Numpy</span>\n"
   ]
  },
  {
   "cell_type": "markdown",
   "metadata": {},
   "source": [
    "Python lists are very flexible for storing any sequence of Python objects. But usually flexibility comes at the price of performance and therefore Python lists are not ideal for numerical calculations where we are interested in performance. Here is where **NumPy** comes in. It adds support for large, multi-dimensional arrays and matrices, along with high-level mathematical functions to operate on these arrays to Python. \n",
    "\n",
    "Relying on `'BLAS'` and `'LAPACK'`, `'NumPy'` gives a functionality comparable with `'MATLAB'` to Python. NumPy facilitates advanced mathematical and other types of operations on large numbers of data. Typically, such operations are executed more efficiently and with less code than is possible using Python’s built-in sequences. It has become one of the fundamental packages used for numerical computations.\n",
    "\n",
    "In this tutorial we will review its basics, so to learn more about NumPy, visit [NumPy User Guide](http://docs.scipy.org/doc/numpy/user/index.html)"
   ]
  },
  {
   "cell_type": "markdown",
   "metadata": {},
   "source": [
    "### <span style=\"color:#0b486b\">1.1 Importing Numpy</span>"
   ]
  },
  {
   "cell_type": "markdown",
   "metadata": {},
   "source": [
    "As you have learnt in tutorial 2, first we have to import a package to be able to use it. NumPy is imported with:"
   ]
  },
  {
   "cell_type": "code",
   "execution_count": 1,
   "metadata": {},
   "outputs": [],
   "source": [
    "import numpy"
   ]
  },
  {
   "cell_type": "markdown",
   "metadata": {},
   "source": [
    "It is the convention to import it like with an alias:"
   ]
  },
  {
   "cell_type": "code",
   "execution_count": 2,
   "metadata": {},
   "outputs": [],
   "source": [
    "import numpy as np"
   ]
  },
  {
   "cell_type": "markdown",
   "metadata": {},
   "source": [
    "### <span style=\"color:#0b486b\">1.2 Numpy arrays</span>"
   ]
  },
  {
   "cell_type": "markdown",
   "metadata": {},
   "source": [
    "The core of NumPy is its arrays. You can create an array from a Python list or tuple using `'array'` function. They work similarly to lists apart from the fact that:\n",
    "\n",
    "* you can easily perform element-wise operation on them, and\n",
    "* unlike lists, they should be pre-allocated.\n",
    "\n",
    "The first point is further explained in [Array operations section](2-prac4.ipynb#1.4-Array-operations). The second point means that you there is no equivalent to list append for arrays. The size of the arrays is known at the time it is defined."
   ]
  },
  {
   "cell_type": "markdown",
   "metadata": {},
   "source": [
    "#### <span style=\"color:#0b486b\">1.2.1 create an array from a list</span>"
   ]
  },
  {
   "cell_type": "code",
   "execution_count": 3,
   "metadata": {},
   "outputs": [],
   "source": [
    "x = [1, 7, 3, 4, 0, -5]\n"
   ]
  },
  {
   "cell_type": "code",
   "execution_count": 9,
   "metadata": {},
   "outputs": [
    {
     "data": {
      "text/plain": [
       "numpy.ndarray"
      ]
     },
     "execution_count": 9,
     "metadata": {},
     "output_type": "execute_result"
    }
   ],
   "source": [
    "y = np.array(x)\n",
    "type(y)"
   ]
  },
  {
   "cell_type": "markdown",
   "metadata": {},
   "source": [
    "#### <span style=\"color:#0b486b\">1.2.2 create an array using a range</span>"
   ]
  },
  {
   "cell_type": "code",
   "execution_count": 4,
   "metadata": {},
   "outputs": [
    {
     "data": {
      "text/plain": [
       "range(0, 5)"
      ]
     },
     "execution_count": 4,
     "metadata": {},
     "output_type": "execute_result"
    }
   ],
   "source": [
    "range(5)"
   ]
  },
  {
   "cell_type": "code",
   "execution_count": 7,
   "metadata": {},
   "outputs": [
    {
     "name": "stdout",
     "output_type": "stream",
     "text": [
      "[0 1 2 3 4]\n"
     ]
    }
   ],
   "source": [
    "print(np.array(range(5)))"
   ]
  },
  {
   "cell_type": "code",
   "execution_count": 8,
   "metadata": {},
   "outputs": [
    {
     "name": "stdout",
     "output_type": "stream",
     "text": [
      "[2.  2.2 2.4 2.6 2.8]\n"
     ]
    }
   ],
   "source": [
    "print(np.arange(2, 3, 0.2))"
   ]
  },
  {
   "cell_type": "code",
   "execution_count": 9,
   "metadata": {},
   "outputs": [
    {
     "name": "stdout",
     "output_type": "stream",
     "text": [
      "[2.   2.25 2.5  2.75 3.  ]\n"
     ]
    }
   ],
   "source": [
    "# returns numbers spaced evenly on a linear scale, both endpoints are included\n",
    "# (2, 3, 5): two endpoints are 2 & 3 and there're 5 numbers in the array.\n",
    "print(np.linspace(2, 3, 5))"
   ]
  },
  {
   "cell_type": "code",
   "execution_count": 10,
   "metadata": {},
   "outputs": [
    {
     "name": "stdout",
     "output_type": "stream",
     "text": [
      "[ 100.          177.827941    316.22776602  562.34132519 1000.        ]\n"
     ]
    }
   ],
   "source": [
    "print(np.logspace(2, 3, 5))    # returns numbers spaced evenly on a log scale"
   ]
  },
  {
   "cell_type": "markdown",
   "metadata": {},
   "source": [
    "**Note:** If you need any help on how to use a function or what it does, you can use IPython help. Just add a question mark (?) at the end of the function and execute the cell:"
   ]
  },
  {
   "cell_type": "code",
   "execution_count": 12,
   "metadata": {},
   "outputs": [],
   "source": [
    "np.logspace?"
   ]
  },
  {
   "cell_type": "markdown",
   "metadata": {},
   "source": [
    "#### <span style=\"color:#0b486b\">1.2.3 create a prefilled array</span>"
   ]
  },
  {
   "cell_type": "code",
   "execution_count": 13,
   "metadata": {},
   "outputs": [
    {
     "name": "stdout",
     "output_type": "stream",
     "text": [
      "[0. 0. 0. 0. 0.]\n"
     ]
    }
   ],
   "source": [
    "print(np.zeros(5))"
   ]
  },
  {
   "cell_type": "code",
   "execution_count": 14,
   "metadata": {},
   "outputs": [
    {
     "name": "stdout",
     "output_type": "stream",
     "text": [
      "[1 1 1 1 1]\n"
     ]
    }
   ],
   "source": [
    "print(np.ones(5, dtype=int))    # you can specify the data type, default is float"
   ]
  },
  {
   "cell_type": "markdown",
   "metadata": {},
   "source": [
    "#### <span style=\"color:#0b486b\">1.2.4 `'mgrid'`</span>\n",
    "similar to meshgrid in MATLAB:"
   ]
  },
  {
   "cell_type": "code",
   "execution_count": 19,
   "metadata": {},
   "outputs": [
    {
     "name": "stdout",
     "output_type": "stream",
     "text": [
      "[[0 0 0]\n",
      " [1 1 1]\n",
      " [2 2 2]\n",
      " [3 3 3]\n",
      " [4 4 4]]\n",
      "[[0 1 2]\n",
      " [0 1 2]\n",
      " [0 1 2]\n",
      " [0 1 2]\n",
      " [0 1 2]]\n"
     ]
    }
   ],
   "source": [
    "x, y = np.mgrid[0:5, 0:3]\n",
    "\n",
    "print(x)\n",
    "print(y)\n",
    "np.mgrid?"
   ]
  },
  {
   "cell_type": "markdown",
   "metadata": {},
   "source": [
    "#### <span style=\"color:#0b486b\">1.2.5 array attributes</span>\n",
    "NumPy arrays have multiple attributes and methods. The cell below shows a few of them. You can press tab after typeing the dot operator `'(.)'` to use IPython auto-complete and see the rest of them."
   ]
  },
  {
   "cell_type": "code",
   "execution_count": 16,
   "metadata": {},
   "outputs": [],
   "source": [
    "y = np.array([3, 0, -4, 6, 12, 2])"
   ]
  },
  {
   "cell_type": "code",
   "execution_count": 17,
   "metadata": {},
   "outputs": [
    {
     "name": "stdout",
     "output_type": "stream",
     "text": [
      "number of dimensions:\t 1\n",
      "dimension of the array: (6,)\n",
      "numerical data type:\t int32\n",
      "maximum of the array:\t 12\n",
      "index of the array max: 4\n",
      "mean of the array:\t 3.1666666666666665\n"
     ]
    }
   ],
   "source": [
    "print(\"number of dimensions:\\t\", y.ndim)\n",
    "print(\"dimension of the array:\", y.shape)       \n",
    "print(\"numerical data type:\\t\", y.dtype)\n",
    "print(\"maximum of the array:\\t\", y.max())       \n",
    "print(\"index of the array max:\", y.argmax())\n",
    "print(\"mean of the array:\\t\", y.mean())"
   ]
  },
  {
   "cell_type": "markdown",
   "metadata": {},
   "source": [
    "#### <span style=\"color:#0b486b\">1.2.6 Multi-dimensional arrays</span>\n"
   ]
  },
  {
   "cell_type": "markdown",
   "metadata": {},
   "source": [
    "You can define arrays with 2 (or higher) dimensions in numpy:"
   ]
  },
  {
   "cell_type": "markdown",
   "metadata": {},
   "source": [
    "##### from lists"
   ]
  },
  {
   "cell_type": "code",
   "execution_count": 21,
   "metadata": {},
   "outputs": [
    {
     "name": "stdout",
     "output_type": "stream",
     "text": [
      "[[ 1  2 10 20]\n",
      " [ 3  4 30 40]]\n",
      "\n",
      "2 (2, 4)\n"
     ]
    }
   ],
   "source": [
    "x = [[1, 2, 10, 20], [3, 4, 30, 40]]\n",
    "y = np.array(x)\n",
    "print(y)\n",
    "print()\n",
    "print(y.ndim, y.shape)\n",
    "np.shape?"
   ]
  },
  {
   "cell_type": "markdown",
   "metadata": {},
   "source": [
    "##### pre-filled "
   ]
  },
  {
   "cell_type": "code",
   "execution_count": 22,
   "metadata": {},
   "outputs": [],
   "source": [
    "x = np.ones((3, 5), dtype='int')"
   ]
  },
  {
   "cell_type": "code",
   "execution_count": 23,
   "metadata": {},
   "outputs": [
    {
     "name": "stdout",
     "output_type": "stream",
     "text": [
      "[[1 1 1 1 1]\n",
      " [1 1 1 1 1]\n",
      " [1 1 1 1 1]]\n",
      "\n",
      "2 (3, 5)\n"
     ]
    }
   ],
   "source": [
    "print(x)\n",
    "print()\n",
    "print(x.ndim, x.shape)"
   ]
  },
  {
   "cell_type": "markdown",
   "metadata": {},
   "source": [
    "##### `'diag()'`\n",
    "diagonal matrix"
   ]
  },
  {
   "cell_type": "code",
   "execution_count": 24,
   "metadata": {},
   "outputs": [
    {
     "data": {
      "text/plain": [
       "array([[1, 0, 0],\n",
       "       [0, 2, 0],\n",
       "       [0, 0, 3]])"
      ]
     },
     "execution_count": 24,
     "metadata": {},
     "output_type": "execute_result"
    }
   ],
   "source": [
    "np.diag([1, 2, 3])"
   ]
  },
  {
   "cell_type": "code",
   "execution_count": 25,
   "metadata": {},
   "outputs": [
    {
     "data": {
      "text/plain": [
       "array([[1, 0, 0, 0],\n",
       "       [0, 2, 0, 0],\n",
       "       [0, 0, 3, 0],\n",
       "       [0, 0, 0, 4]])"
      ]
     },
     "execution_count": 25,
     "metadata": {},
     "output_type": "execute_result"
    }
   ],
   "source": [
    "np.diag([1,2,3,4])"
   ]
  },
  {
   "cell_type": "markdown",
   "metadata": {},
   "source": [
    "### <span style=\"color:#0b486b\">1.3 Manipulating arrays</span>\n"
   ]
  },
  {
   "cell_type": "markdown",
   "metadata": {},
   "source": [
    "#### <span style=\"color:#0b486b\">1.3.1 Indexing</span>\n"
   ]
  },
  {
   "cell_type": "markdown",
   "metadata": {},
   "source": [
    "Similar to lists, you can index elements in an array using `'[]'` and indices:"
   ]
  },
  {
   "cell_type": "markdown",
   "metadata": {},
   "source": [
    "If `'x'` is a 1-dimensional array, `'x[i]'` will index `'ith'` element of `'x'`:"
   ]
  },
  {
   "cell_type": "code",
   "execution_count": 26,
   "metadata": {},
   "outputs": [
    {
     "name": "stdout",
     "output_type": "stream",
     "text": [
      "4\n"
     ]
    }
   ],
   "source": [
    "x = np.array([2, 8, -2, 4, 3])\n",
    "print(x[3])"
   ]
  },
  {
   "cell_type": "markdown",
   "metadata": {},
   "source": [
    "If 'x' is a 2-dimensional arrray:\n",
    "\n",
    "* '`x[i, j]'` or `'x[i][j]'` will index the element in `'ith'` row and `'jth'` column\n",
    "* '`x[i, :]'` will index the `'ith'` row \n",
    "* `'x[:, j]'` will index `'jth'` column"
   ]
  },
  {
   "cell_type": "code",
   "execution_count": 27,
   "metadata": {},
   "outputs": [
    {
     "name": "stdout",
     "output_type": "stream",
     "text": [
      "0\n"
     ]
    }
   ],
   "source": [
    "x = np.array([[7, 6, 8, 6, 4],\n",
    "              [4, 7, -2, 0, 9]])\n",
    "              \n",
    "print(x[1, 3])"
   ]
  },
  {
   "cell_type": "code",
   "execution_count": 28,
   "metadata": {},
   "outputs": [
    {
     "name": "stdout",
     "output_type": "stream",
     "text": [
      "[ 4  7 -2  0  9]\n"
     ]
    }
   ],
   "source": [
    "print(x[1, :])      # or x[1]"
   ]
  },
  {
   "cell_type": "code",
   "execution_count": 29,
   "metadata": {},
   "outputs": [
    {
     "name": "stdout",
     "output_type": "stream",
     "text": [
      "[6 0]\n"
     ]
    }
   ],
   "source": [
    "print(x[:, 3])"
   ]
  },
  {
   "cell_type": "markdown",
   "metadata": {},
   "source": [
    "Arrays can also be indexed with other arrays:"
   ]
  },
  {
   "cell_type": "code",
   "execution_count": 30,
   "metadata": {},
   "outputs": [
    {
     "name": "stdout",
     "output_type": "stream",
     "text": [
      "[8 4 3] [8 4 3]\n",
      "[ 2  0 -2  0  0  9  0]\n"
     ]
    }
   ],
   "source": [
    "x = np.array([2, 8, -2, 4, 3, 9, 0])\n",
    "\n",
    "idx1 = [1, 3, 4]        # list\n",
    "idx2 = np.array(idx1)   # array\n",
    "\n",
    "print(x[idx1], x[idx2])\n",
    "x[idx2] = 0\n",
    "print(x)"
   ]
  },
  {
   "cell_type": "markdown",
   "metadata": {},
   "source": [
    "You can also index masks. The index mask should be a NumPy arrays of data type Bool. Then the element of the array is selected only if the index mask at the position of the element is True."
   ]
  },
  {
   "cell_type": "code",
   "execution_count": 31,
   "metadata": {},
   "outputs": [],
   "source": [
    "x = np.array([2, 8, -2, 4, 3, 9, 0])"
   ]
  },
  {
   "cell_type": "code",
   "execution_count": 32,
   "metadata": {},
   "outputs": [],
   "source": [
    "mask = np.array([False, True, True, False, False, True, False])"
   ]
  },
  {
   "cell_type": "code",
   "execution_count": 33,
   "metadata": {},
   "outputs": [
    {
     "data": {
      "text/plain": [
       "array([ 8, -2,  9])"
      ]
     },
     "execution_count": 33,
     "metadata": {},
     "output_type": "execute_result"
    }
   ],
   "source": [
    "x[mask]"
   ]
  },
  {
   "cell_type": "markdown",
   "metadata": {},
   "source": [
    "Combining index masks with comparison operaors enabels you to conditinoally slecect elements of the array."
   ]
  },
  {
   "cell_type": "code",
   "execution_count": 35,
   "metadata": {},
   "outputs": [
    {
     "name": "stdout",
     "output_type": "stream",
     "text": [
      "[ True  True False  True  True False False]\n"
     ]
    },
    {
     "data": {
      "text/plain": [
       "array([2, 8, 4, 3])"
      ]
     },
     "execution_count": 35,
     "metadata": {},
     "output_type": "execute_result"
    }
   ],
   "source": [
    "x = np.array([2, 8, -2, 4, 3, 9, 0])\n",
    "mask = (x>=2) * (x<9) #first element = True * True = True (2 >= 2 * 2 < 9)\n",
    "print(mask)\n",
    "x[mask]"
   ]
  },
  {
   "cell_type": "markdown",
   "metadata": {},
   "source": [
    "#### <span style=\"color:#0b486b\">1.3.2 Slicing</span>\n"
   ]
  },
  {
   "cell_type": "markdown",
   "metadata": {},
   "source": [
    "Similar to Python lists, arrays can also be sliced:"
   ]
  },
  {
   "cell_type": "code",
   "execution_count": 36,
   "metadata": {},
   "outputs": [
    {
     "name": "stdout",
     "output_type": "stream",
     "text": [
      "[4 3 9 0]\n",
      "[4 9]\n"
     ]
    }
   ],
   "source": [
    "x = np.array([2, 8, -2, 4, 3, 9, 0])\n",
    "\n",
    "print(x[3:])    # slicing\n",
    "print(x[3:7:2])  # slicing with a specified step"
   ]
  },
  {
   "cell_type": "code",
   "execution_count": 37,
   "metadata": {},
   "outputs": [
    {
     "name": "stdout",
     "output_type": "stream",
     "text": [
      "[7 0 5]\n",
      "\n",
      "[[6 6 3]\n",
      " [7 5 5]]\n"
     ]
    }
   ],
   "source": [
    "x = np.array([[7, 6, 8, 6, 4, 3],\n",
    "              [4, 7, 0, 5, 9, 5],\n",
    "              [7, 3, 6, 3, 5, 1]])\n",
    "              \n",
    "\n",
    "print(x[1, 1:4])\n",
    "print()\n",
    "print(x[:2, 1::2])    # rows zero up to 3, cols 1 up to end with a step=2"
   ]
  },
  {
   "cell_type": "markdown",
   "metadata": {},
   "source": [
    "#### <span style=\"color:#0b486b\">1.3.3 Iteration over items</span>\n"
   ]
  },
  {
   "cell_type": "markdown",
   "metadata": {},
   "source": [
    "Since most of NumPy functions are capable of operating on arrays, in many cases iteration over items of an arrays can be (and should be) avoided. Otherwise it is pretty much similar to iterating over values of a list:"
   ]
  },
  {
   "cell_type": "code",
   "execution_count": 38,
   "metadata": {},
   "outputs": [
    {
     "name": "stdout",
     "output_type": "stream",
     "text": [
      "[ 0  7 14 21 28 35 42 49]\n",
      "0 7 14 21 28 35 42 49 "
     ]
    }
   ],
   "source": [
    "a = np.arange(0, 50, 7)\n",
    "print(a)\n",
    "for item in a:\n",
    "    print(item, end=' ')"
   ]
  },
  {
   "cell_type": "markdown",
   "metadata": {},
   "source": [
    "Of course you could iterate over items using their indices too:"
   ]
  },
  {
   "cell_type": "code",
   "execution_count": 44,
   "metadata": {},
   "outputs": [
    {
     "name": "stdout",
     "output_type": "stream",
     "text": [
      "0 7 14 21 28 35 42 49 \n",
      " 8\n"
     ]
    }
   ],
   "source": [
    "a = np.arange(0, 50, 7)\n",
    "for i in range(a.shape[0]):\n",
    "    print(a[i], end=' ')\n",
    "\n",
    "print(\"\\n\", a.shape[0])"
   ]
  },
  {
   "cell_type": "markdown",
   "metadata": {},
   "source": [
    "There are also many functions for manipulating arrays. The most used ones are:"
   ]
  },
  {
   "cell_type": "markdown",
   "metadata": {},
   "source": [
    "#### 1.3.4 `copy()`"
   ]
  },
  {
   "cell_type": "markdown",
   "metadata": {},
   "source": [
    "**Remember** that assignment operator is not an equivalent for copying arrays. In fact Python does not pass the values. It passess the references."
   ]
  },
  {
   "cell_type": "code",
   "execution_count": 45,
   "metadata": {},
   "outputs": [
    {
     "name": "stdout",
     "output_type": "stream",
     "text": [
      "[1, 2, 3] [1, 2, 3]\n"
     ]
    }
   ],
   "source": [
    "x = [1, 2, 3]\n",
    "y = x\n",
    "print(x, y)"
   ]
  },
  {
   "cell_type": "code",
   "execution_count": 46,
   "metadata": {},
   "outputs": [
    {
     "name": "stdout",
     "output_type": "stream",
     "text": [
      "[0, 2, 3] [0, 2, 3]\n"
     ]
    }
   ],
   "source": [
    "y[0] = 0       # now we alter an element of y\n",
    "print(x, y)     # note that x has changed as well"
   ]
  },
  {
   "cell_type": "markdown",
   "metadata": {},
   "source": [
    "Same is true for numpy arrays. That's why if you need a copy of an array, you should use `'copy()'` function."
   ]
  },
  {
   "cell_type": "code",
   "execution_count": 47,
   "metadata": {},
   "outputs": [
    {
     "name": "stdout",
     "output_type": "stream",
     "text": [
      "[0 2 3] [0 2 3]\n"
     ]
    }
   ],
   "source": [
    "x = np.array([1, 2, 3])\n",
    "y = x\n",
    "\n",
    "y[0] = 0       # now we alter an element of y\n",
    "print(x, y)     # note that x has changed as well"
   ]
  },
  {
   "cell_type": "code",
   "execution_count": 48,
   "metadata": {},
   "outputs": [
    {
     "name": "stdout",
     "output_type": "stream",
     "text": [
      "[1 2 3] [0 2 3]\n"
     ]
    }
   ],
   "source": [
    "x = np.array([1, 2, 3])\n",
    "y = x.copy()  # or np.copy(x)\n",
    "y[0] = 0\n",
    "\n",
    "print(x, y)"
   ]
  },
  {
   "cell_type": "markdown",
   "metadata": {},
   "source": [
    "#### 1.3.5 `reshape()`"
   ]
  },
  {
   "cell_type": "code",
   "execution_count": 49,
   "metadata": {},
   "outputs": [
    {
     "name": "stdout",
     "output_type": "stream",
     "text": [
      "[0 1 2 3 4 5]\n",
      "\n",
      "[[0 1 2]\n",
      " [3 4 5]]\n"
     ]
    }
   ],
   "source": [
    "x1 = np.arange(6)\n",
    "x2 = x1.reshape((2, 3))    # or np.reshape(x1, (2, 3))\n",
    "\n",
    "print(x1)\n",
    "print()\n",
    "print(x2)\n"
   ]
  },
  {
   "cell_type": "markdown",
   "metadata": {},
   "source": [
    "#### 1.3.6 `astype()`"
   ]
  },
  {
   "cell_type": "markdown",
   "metadata": {},
   "source": [
    "Used for type casting:"
   ]
  },
  {
   "cell_type": "code",
   "execution_count": 50,
   "metadata": {},
   "outputs": [
    {
     "name": "stdout",
     "output_type": "stream",
     "text": [
      "<class 'numpy.ndarray'> [0 1 2 3 4]\n",
      "<class 'numpy.ndarray'> [0. 1. 2. 3. 4.]\n"
     ]
    }
   ],
   "source": [
    "x1 = np.arange(5)\n",
    "x2 = x1.astype(float)\n",
    "\n",
    "print(type(x1), x1)\n",
    "print(type(x2), x2)"
   ]
  },
  {
   "cell_type": "markdown",
   "metadata": {},
   "source": [
    "#### 1.3.7 `T`"
   ]
  },
  {
   "cell_type": "markdown",
   "metadata": {},
   "source": [
    "transpose method:"
   ]
  },
  {
   "cell_type": "code",
   "execution_count": 55,
   "metadata": {},
   "outputs": [
    {
     "name": "stdout",
     "output_type": "stream",
     "text": [
      "[[3 2 4 2]\n",
      " [2 1 3 0]]\n",
      "\n",
      "[[3 2]\n",
      " [2 1]\n",
      " [4 3]\n",
      " [2 0]]\n"
     ]
    }
   ],
   "source": [
    "x1 = np.random.randint(5, size=(2, 4))\n",
    "x2 = x1.T\n",
    "\n",
    "print(x1)\n",
    "print()\n",
    "print(x2)\n",
    "\n",
    "np.random.randint?"
   ]
  },
  {
   "cell_type": "markdown",
   "metadata": {},
   "source": [
    "### <span style=\"color:#0b486b\">1.4 Array operations</span>\n"
   ]
  },
  {
   "cell_type": "markdown",
   "metadata": {},
   "source": [
    "#### <span style=\"color:#0b486b\">1.4.1 Arithmetic operators</span>\n"
   ]
  },
  {
   "cell_type": "markdown",
   "metadata": {},
   "source": [
    "Arrays can be added, subtracted, multiplied and divided using +, -, \\* and, /. Operations done by these operators are **element wise**."
   ]
  },
  {
   "cell_type": "code",
   "execution_count": 56,
   "metadata": {},
   "outputs": [
    {
     "name": "stdout",
     "output_type": "stream",
     "text": [
      "[[2. 3. 5. 7.]\n",
      " [2. 4. 6. 8.]]\n",
      "\n",
      "[[6. 5. 4. 3.]\n",
      " [9. 7. 5. 3.]]\n"
     ]
    }
   ],
   "source": [
    "x1 = np.array([[2, 3, 5, 7], \n",
    "               [2, 4, 6, 8]], dtype=float)\n",
    "x2 = np.array([[6, 5, 4, 3], \n",
    "               [9, 7, 5, 3]], dtype=float)\n",
    "\n",
    "print(x1)\n",
    "print()\n",
    "print(x2)"
   ]
  },
  {
   "cell_type": "code",
   "execution_count": 57,
   "metadata": {},
   "outputs": [
    {
     "name": "stdout",
     "output_type": "stream",
     "text": [
      "[[ 8.  8.  9. 10.]\n",
      " [11. 11. 11. 11.]]\n"
     ]
    }
   ],
   "source": [
    "print(x1 + x2)"
   ]
  },
  {
   "cell_type": "code",
   "execution_count": 58,
   "metadata": {},
   "outputs": [
    {
     "name": "stdout",
     "output_type": "stream",
     "text": [
      "[[-4. -2.  1.  4.]\n",
      " [-7. -3.  1.  5.]]\n"
     ]
    }
   ],
   "source": [
    "print(x1 - x2)"
   ]
  },
  {
   "cell_type": "code",
   "execution_count": 59,
   "metadata": {},
   "outputs": [
    {
     "name": "stdout",
     "output_type": "stream",
     "text": [
      "[[12. 15. 20. 21.]\n",
      " [18. 28. 30. 24.]]\n"
     ]
    }
   ],
   "source": [
    "print(x1 * x2)"
   ]
  },
  {
   "cell_type": "code",
   "execution_count": 60,
   "metadata": {},
   "outputs": [
    {
     "name": "stdout",
     "output_type": "stream",
     "text": [
      "[[0.33333333 0.6        1.25       2.33333333]\n",
      " [0.22222222 0.57142857 1.2        2.66666667]]\n"
     ]
    }
   ],
   "source": [
    "print(x1 / x2)"
   ]
  },
  {
   "cell_type": "code",
   "execution_count": 61,
   "metadata": {},
   "outputs": [
    {
     "name": "stdout",
     "output_type": "stream",
     "text": [
      "[[ 5.  6.  8. 10.]\n",
      " [ 5.  7.  9. 11.]]\n"
     ]
    }
   ],
   "source": [
    "print(3 + x1)"
   ]
  },
  {
   "cell_type": "code",
   "execution_count": 62,
   "metadata": {},
   "outputs": [
    {
     "name": "stdout",
     "output_type": "stream",
     "text": [
      "[[ 6.  9. 15. 21.]\n",
      " [ 6. 12. 18. 24.]]\n"
     ]
    }
   ],
   "source": [
    "print(3 * x1)"
   ]
  },
  {
   "cell_type": "code",
   "execution_count": 63,
   "metadata": {},
   "outputs": [
    {
     "name": "stdout",
     "output_type": "stream",
     "text": [
      "[[1.5        1.         0.6        0.42857143]\n",
      " [1.5        0.75       0.5        0.375     ]]\n"
     ]
    }
   ],
   "source": [
    "print(3 / x1)"
   ]
  },
  {
   "cell_type": "markdown",
   "metadata": {},
   "source": [
    "#### <span style=\"color:#0b486b\">1.4.2 Boolean operators</span>\n",
    "\n",
    "Much like arethmaic operators discussed above, boolean (comparison) operatos perform element-wise on arrays."
   ]
  },
  {
   "cell_type": "code",
   "execution_count": 64,
   "metadata": {},
   "outputs": [
    {
     "name": "stdout",
     "output_type": "stream",
     "text": [
      "[False  True  True False] bool\n"
     ]
    }
   ],
   "source": [
    "x1 = np.array([2, 3, 5, 7])\n",
    "x2 = np.array([2, 4, 6, 7])\n",
    "y = x1<x2\n",
    "\n",
    "print(y, y.dtype)"
   ]
  },
  {
   "cell_type": "markdown",
   "metadata": {},
   "source": [
    "use methods `'.any()'` and `'.all()'` to return a single boolean value indicating whether any or all values in the array are True respectively. This value in turn can be used as a condition for an `'if'` statement."
   ]
  },
  {
   "cell_type": "code",
   "execution_count": 65,
   "metadata": {},
   "outputs": [
    {
     "name": "stdout",
     "output_type": "stream",
     "text": [
      "False\n",
      "True\n"
     ]
    }
   ],
   "source": [
    "print(y.all())\n",
    "print(y.any())"
   ]
  },
  {
   "cell_type": "markdown",
   "metadata": {},
   "source": [
    "NumPy has many other functions that you can read about them in [NumPy User Guide](http://docs.scipy.org/doc/numpy/user/). Specially read about:"
   ]
  },
  {
   "cell_type": "markdown",
   "metadata": {},
   "source": [
    "* `np.unique`, returns unique elements of an array\n",
    "* `np.flatten`, flattens a multi-dimensional array\n",
    "* `np.mean`, `np.std`, `np.median`\n",
    "* `np.min`, `np.max`, `np.argmin`, `np.argmax`"
   ]
  },
  {
   "cell_type": "markdown",
   "metadata": {},
   "source": [
    "### <span style=\"color:#0b486b\">1.5 np.random</span>\n"
   ]
  },
  {
   "cell_type": "markdown",
   "metadata": {},
   "source": [
    "NumPy has a module called `random` to generate arrays of random numbers. There are different ways to generate a random number:"
   ]
  },
  {
   "cell_type": "code",
   "execution_count": 66,
   "metadata": {},
   "outputs": [
    {
     "name": "stdout",
     "output_type": "stream",
     "text": [
      "0.9687042817579573\n"
     ]
    }
   ],
   "source": [
    "print(np.random.rand())"
   ]
  },
  {
   "cell_type": "code",
   "execution_count": 67,
   "metadata": {},
   "outputs": [
    {
     "name": "stdout",
     "output_type": "stream",
     "text": [
      "[[0.33413708 0.69510482 0.10018648 0.33184598 0.68838513]\n",
      " [0.58749784 0.00362192 0.50325007 0.54023428 0.96347261]]\n"
     ]
    }
   ],
   "source": [
    "# 2x5 random array drawn from standard normal distribution\n",
    "print(np.random.random([2, 5]))"
   ]
  },
  {
   "cell_type": "code",
   "execution_count": 68,
   "metadata": {},
   "outputs": [
    {
     "name": "stdout",
     "output_type": "stream",
     "text": [
      "[[0.0237954  0.17944683 0.47986637 0.70248769 0.07067682]\n",
      " [0.99610181 0.15591776 0.2532366  0.02139073 0.99976043]]\n"
     ]
    }
   ],
   "source": [
    "# 2x5 random array drawn from standard normal distribution\n",
    "print(np.random.rand(2, 5))"
   ]
  },
  {
   "cell_type": "code",
   "execution_count": 69,
   "metadata": {},
   "outputs": [
    {
     "name": "stdout",
     "output_type": "stream",
     "text": [
      "[[2 9 1 5 5]\n",
      " [5 5 0 0 0]]\n"
     ]
    }
   ],
   "source": [
    "# 2x5 random array drawn from a uniform distribution on {0, 1, 2, ..., 9}\n",
    "print(np.random.randint(10, size=[2, 5]))"
   ]
  },
  {
   "cell_type": "markdown",
   "metadata": {},
   "source": [
    "##### <span style=\"color:#0b486b\">1.5.1 Random seed</span>\n"
   ]
  },
  {
   "cell_type": "markdown",
   "metadata": {},
   "source": [
    "Random numbers generated by computers are not really random. They are called pseudo-random. Thus we can set the random generator to generate the same set of random numbers every time. This is useful while testing the code."
   ]
  },
  {
   "cell_type": "code",
   "execution_count": 72,
   "metadata": {},
   "outputs": [
    {
     "name": "stdout",
     "output_type": "stream",
     "text": [
      "0.27836938509379616 0.4245175907491331 0.8447761323199037 0.004718856190972565 0.12156912078311422 "
     ]
    }
   ],
   "source": [
    "for i in range(5):\n",
    "    print(np.random.random(), end=' ')"
   ]
  },
  {
   "cell_type": "code",
   "execution_count": 73,
   "metadata": {},
   "outputs": [
    {
     "name": "stdout",
     "output_type": "stream",
     "text": [
      "0.5434049417909654 0.5434049417909654 0.5434049417909654 0.5434049417909654 0.5434049417909654 "
     ]
    }
   ],
   "source": [
    "for i in range(5):\n",
    "    np.random.seed(100)\n",
    "    print(np.random.random(), end=' ')"
   ]
  },
  {
   "cell_type": "markdown",
   "metadata": {},
   "source": [
    "### <span style=\"color:#0b486b\">1.6 Vectorizing functions</span>\n"
   ]
  },
  {
   "cell_type": "markdown",
   "metadata": {},
   "source": [
    "As mentioned earlier in operators, to get a good performance you should avoid looping over elements in an array and use vectorized algorithms. Many methods and functions of NumPy already support vectors, so keep this in mind while writing your own code.\n",
    "\n",
    "But for now, suppose you have written a step function which does not work with arrays, as the cell below:"
   ]
  },
  {
   "cell_type": "code",
   "execution_count": 74,
   "metadata": {},
   "outputs": [],
   "source": [
    "def step_func(x):\n",
    "    \"\"\"\n",
    "    scalar implementation of step function\n",
    "    \"\"\"\n",
    "    \n",
    "    if x>=0:\n",
    "        return 1\n",
    "    else:\n",
    "        return 0"
   ]
  },
  {
   "cell_type": "markdown",
   "metadata": {},
   "source": [
    "Obviously it fails when dealing with an array, because it expects a scalar as its input. Execute the cell below and see that it raises an error:"
   ]
  },
  {
   "cell_type": "code",
   "execution_count": 75,
   "metadata": {},
   "outputs": [
    {
     "ename": "ValueError",
     "evalue": "The truth value of an array with more than one element is ambiguous. Use a.any() or a.all()",
     "output_type": "error",
     "traceback": [
      "\u001b[1;31m---------------------------------------------------------------------------\u001b[0m",
      "\u001b[1;31mValueError\u001b[0m                                Traceback (most recent call last)",
      "\u001b[1;32m<ipython-input-75-8c5d61b1375a>\u001b[0m in \u001b[0;36m<module>\u001b[1;34m\u001b[0m\n\u001b[0;32m      2\u001b[0m \u001b[1;31m# it raises an error\u001b[0m\u001b[1;33m\u001b[0m\u001b[1;33m\u001b[0m\u001b[1;33m\u001b[0m\u001b[0m\n\u001b[0;32m      3\u001b[0m \u001b[1;33m\u001b[0m\u001b[0m\n\u001b[1;32m----> 4\u001b[1;33m \u001b[0mstep_func\u001b[0m\u001b[1;33m(\u001b[0m\u001b[0mnp\u001b[0m\u001b[1;33m.\u001b[0m\u001b[0marray\u001b[0m\u001b[1;33m(\u001b[0m\u001b[1;33m[\u001b[0m\u001b[1;36m2\u001b[0m\u001b[1;33m,\u001b[0m \u001b[1;36m7\u001b[0m\u001b[1;33m,\u001b[0m \u001b[1;33m-\u001b[0m\u001b[1;36m4\u001b[0m\u001b[1;33m,\u001b[0m \u001b[1;33m-\u001b[0m\u001b[1;36m9\u001b[0m\u001b[1;33m,\u001b[0m \u001b[1;36m0\u001b[0m\u001b[1;33m,\u001b[0m \u001b[1;36m4\u001b[0m\u001b[1;33m]\u001b[0m\u001b[1;33m)\u001b[0m\u001b[1;33m)\u001b[0m\u001b[1;33m\u001b[0m\u001b[1;33m\u001b[0m\u001b[0m\n\u001b[0m",
      "\u001b[1;32m<ipython-input-74-b94842407185>\u001b[0m in \u001b[0;36mstep_func\u001b[1;34m(x)\u001b[0m\n\u001b[0;32m      4\u001b[0m     \"\"\"\n\u001b[0;32m      5\u001b[0m \u001b[1;33m\u001b[0m\u001b[0m\n\u001b[1;32m----> 6\u001b[1;33m     \u001b[1;32mif\u001b[0m \u001b[0mx\u001b[0m\u001b[1;33m>=\u001b[0m\u001b[1;36m0\u001b[0m\u001b[1;33m:\u001b[0m\u001b[1;33m\u001b[0m\u001b[1;33m\u001b[0m\u001b[0m\n\u001b[0m\u001b[0;32m      7\u001b[0m         \u001b[1;32mreturn\u001b[0m \u001b[1;36m1\u001b[0m\u001b[1;33m\u001b[0m\u001b[1;33m\u001b[0m\u001b[0m\n\u001b[0;32m      8\u001b[0m     \u001b[1;32melse\u001b[0m\u001b[1;33m:\u001b[0m\u001b[1;33m\u001b[0m\u001b[1;33m\u001b[0m\u001b[0m\n",
      "\u001b[1;31mValueError\u001b[0m: The truth value of an array with more than one element is ambiguous. Use a.any() or a.all()"
     ]
    }
   ],
   "source": [
    "# since step_func expects a scalar and recieves an array instead, \n",
    "# it raises an error\n",
    "\n",
    "step_func(np.array([2, 7, -4, -9, 0, 4]))"
   ]
  },
  {
   "cell_type": "markdown",
   "metadata": {},
   "source": [
    "You can use the function `'np.vectorize()'` to obtain a vectorized version of `'step_func'` that can handle vector data:"
   ]
  },
  {
   "cell_type": "code",
   "execution_count": null,
   "metadata": {
    "collapsed": true
   },
   "outputs": [],
   "source": [
    "step_func_vectorized = np.vectorize(step_func)\n",
    "step_func_vectorized(np.array([2, 7, -4, -9, 0, 4]))"
   ]
  },
  {
   "cell_type": "markdown",
   "metadata": {},
   "source": [
    "Although `'vectorize()'` can automatically derive a vectorized version of a scalar function, but it is always better to keep this in mind and write functions vector-compatilbe, from the beginning. For example we could write the step function as it is shown in the cell below, so it can handle scalar and vector data."
   ]
  },
  {
   "cell_type": "code",
   "execution_count": null,
   "metadata": {
    "collapsed": true
   },
   "outputs": [],
   "source": [
    "def step_func2(x):\n",
    "    \"\"\"\n",
    "    vector and scalar implementation of step function\n",
    "    \"\"\"\n",
    "    \n",
    "    return 1 * (x>=0)"
   ]
  },
  {
   "cell_type": "code",
   "execution_count": null,
   "metadata": {
    "collapsed": true
   },
   "outputs": [],
   "source": [
    "step_func2(np.array([2, 7, -4, -9, 0, 4]))"
   ]
  },
  {
   "cell_type": "markdown",
   "metadata": {},
   "source": [
    "## <span style=\"color:#0b486b\">2. Matplotlib</span>\n"
   ]
  },
  {
   "cell_type": "markdown",
   "metadata": {},
   "source": [
    "### <span style=\"color:#0b486b\">2.1 What is it?</span>\n"
   ]
  },
  {
   "cell_type": "markdown",
   "metadata": {},
   "source": [
    "matplotlib is a python plotting library which produces publication quality figures in a variety of hardcopy formats and interactive environments across platforms. You can generate plots, histograms, power spectra, bar charts, errorcharts, scatterplots, etc, with just a few lines of code. \n",
    "\n",
    "For simple plotting the pyplot interface provides a MATLAB-like interface, particularly when combined with IPython. You have full control of line styles, font properties, axes properties, etc, via an object oriented interface or via a set of functions familiar to MATLAB users."
   ]
  },
  {
   "cell_type": "markdown",
   "metadata": {},
   "source": [
    "### <span style=\"color:#0b486b\">2.2 Get started</span>\n"
   ]
  },
  {
   "cell_type": "markdown",
   "metadata": {},
   "source": [
    "To get started with `'matplotlib'` you can either execute:"
   ]
  },
  {
   "cell_type": "code",
   "execution_count": null,
   "metadata": {
    "collapsed": true
   },
   "outputs": [],
   "source": [
    "from pylab import *"
   ]
  },
  {
   "cell_type": "markdown",
   "metadata": {},
   "source": [
    "or"
   ]
  },
  {
   "cell_type": "code",
   "execution_count": null,
   "metadata": {
    "collapsed": true
   },
   "outputs": [],
   "source": [
    "import matplotlib.pyplot"
   ]
  },
  {
   "cell_type": "markdown",
   "metadata": {},
   "source": [
    "In fact it is a convention to import it under the name of `'plt'`:"
   ]
  },
  {
   "cell_type": "code",
   "execution_count": null,
   "metadata": {
    "collapsed": true
   },
   "outputs": [],
   "source": [
    "import matplotlib.pyplot as plt"
   ]
  },
  {
   "cell_type": "markdown",
   "metadata": {},
   "source": [
    "**note: The second method is preferred.**"
   ]
  },
  {
   "cell_type": "code",
   "execution_count": null,
   "metadata": {
    "collapsed": true
   },
   "outputs": [],
   "source": [
    "import matplotlib.pyplot as plt\n",
    "import numpy as np"
   ]
  },
  {
   "cell_type": "markdown",
   "metadata": {},
   "source": [
    "Regardless of the method you use, it is better to configure matplotlib to embed figures in the notebook instead of opening them in a new window for each figure. To do this use the magic function:"
   ]
  },
  {
   "cell_type": "code",
   "execution_count": null,
   "metadata": {
    "collapsed": true
   },
   "outputs": [],
   "source": [
    "%matplotlib inline"
   ]
  },
  {
   "cell_type": "markdown",
   "metadata": {},
   "source": [
    "### 2.3 `plot`"
   ]
  },
  {
   "cell_type": "markdown",
   "metadata": {},
   "source": [
    "By using `'subplots()'` you have access to both figure and axes objects. "
   ]
  },
  {
   "cell_type": "code",
   "execution_count": null,
   "metadata": {
    "collapsed": true
   },
   "outputs": [],
   "source": [
    "x = np.linspace(0, 10)\n",
    "y = np.sin(x)"
   ]
  },
  {
   "cell_type": "code",
   "execution_count": null,
   "metadata": {
    "collapsed": true
   },
   "outputs": [],
   "source": [
    "fig, ax = plt.subplots()\n",
    "ax.plot(x, y)"
   ]
  },
  {
   "cell_type": "markdown",
   "metadata": {},
   "source": [
    "### <span style=\"color:#0b486b\">2.4 title and labels</span>\n"
   ]
  },
  {
   "cell_type": "code",
   "execution_count": null,
   "metadata": {
    "collapsed": true
   },
   "outputs": [],
   "source": [
    "ax.set_title('title here!')\n",
    "ax.set_xlabel('x')\n",
    "ax.set_ylabel('sin(x)')\n",
    "fig"
   ]
  },
  {
   "cell_type": "markdown",
   "metadata": {},
   "source": [
    "You can also use $\\LaTeX$ in title or labels, or change the font size or font family."
   ]
  },
  {
   "cell_type": "code",
   "execution_count": null,
   "metadata": {
    "collapsed": true
   },
   "outputs": [],
   "source": [
    "x = np.linspace(-10, 10)\n",
    "fig, ax = plt.subplots(figsize=(6, 4), dpi=300)\n",
    "ax.plot(x, x**3-x**2, 'bo', lw=3)\n",
    "\n",
    "ax.set_title('$x^3-x^2$', fontsize=15)\n",
    "ax.set_xlabel('$x$', fontsize=15)\n",
    "ax.set_ylabel('$y$', fontsize=15)"
   ]
  },
  {
   "cell_type": "markdown",
   "metadata": {},
   "source": [
    "### <span style=\"color:#0b486b\">2.5 Subplots</span>\n",
    "\n",
    "You can pass the number of subplots to `'subplots()'`. In this case, `'axes'` will be an array that each of its elements associates with one of the subgraphs. You can set properties of each `'ax'` object separately like the cell below. \n",
    "\n",
    "Obviously you caould use a loop to iterate over `'axes'`."
   ]
  },
  {
   "cell_type": "code",
   "execution_count": null,
   "metadata": {
    "collapsed": true
   },
   "outputs": [],
   "source": [
    "fig, axes = plt.subplots(nrows=1, ncols=2)\n",
    "\n",
    "x = np.linspace(0, 10)\n",
    "\n",
    "axes[0].plot(x, np.sin(x))\n",
    "axes[0].set_xlabel('x')\n",
    "axes[0].set_ylabel('sin(x)')\n",
    "\n",
    "axes[1].plot(x, np.cos(x))\n",
    "axes[1].set_xlabel('xx')\n",
    "axes[1].set_ylabel('cos(x)')"
   ]
  },
  {
   "cell_type": "markdown",
   "metadata": {},
   "source": [
    "`'cos(x)'` label is overlapping with the `'sin'` graph. You can adjust the size of the graph or space between the subplots to fix it."
   ]
  },
  {
   "cell_type": "code",
   "execution_count": null,
   "metadata": {
    "collapsed": true
   },
   "outputs": [],
   "source": [
    "fig, axes = plt.subplots(nrows=1, ncols=2, figsize=(10, 5))\n",
    "fig.subplots_adjust(wspace=0.4)\n",
    "x = np.linspace(0, 10)\n",
    "\n",
    "axes[0].plot(x, np.sin(x))\n",
    "axes[0].set_xlabel('x')\n",
    "axes[0].set_ylabel('sin(x)')\n",
    "\n",
    "axes[1].plot(x, np.cos(x))\n",
    "axes[1].set_xlabel('xx')\n",
    "axes[1].set_ylabel('cos(x)')"
   ]
  },
  {
   "cell_type": "markdown",
   "metadata": {},
   "source": [
    "### <span style=\"color:#0b486b\">2.6 Legend</span>\n"
   ]
  },
  {
   "cell_type": "code",
   "execution_count": null,
   "metadata": {
    "collapsed": true
   },
   "outputs": [],
   "source": [
    "x = np.linspace(0, 10)\n",
    "fig, ax = plt.subplots(figsize=(7, 5))\n",
    "ax.plot(x, np.sin(x), label='$sin(x)$')\n",
    "ax.plot(x, np.cos(x), label='$cos(x)$')\n",
    "# ax.legend(fontsize=16, loc=3)\n"
   ]
  },
  {
   "cell_type": "markdown",
   "metadata": {},
   "source": [
    "### <span style=\"color:#0b486b\">2.7 Customizing ticks</span>\n"
   ]
  },
  {
   "cell_type": "markdown",
   "metadata": {},
   "source": [
    "In many cases you want to customize the ticks and their labels on x or y axis. First draw a simple graph and look at the ticks on x-axis. "
   ]
  },
  {
   "cell_type": "code",
   "execution_count": null,
   "metadata": {
    "collapsed": true
   },
   "outputs": [],
   "source": [
    "x = np.linspace(0, 10, num=100)\n",
    "\n",
    "fig, ax = plt.subplots(figsize=(10, 5))\n",
    "ax.plot(x, np.sin(x), x, np.cos(x), lw=2)"
   ]
  },
  {
   "cell_type": "markdown",
   "metadata": {},
   "source": [
    "You can change the ticks easily with passing a list (or array) to `'set_xticks()'` or `'set_yticks()'`:"
   ]
  },
  {
   "cell_type": "code",
   "execution_count": null,
   "metadata": {
    "collapsed": true
   },
   "outputs": [],
   "source": [
    "xticks = [0, 1, 2, 5, 8, 8.5, 10]\n",
    "ax.set_xticks(xticks)\n",
    "fig"
   ]
  },
  {
   "cell_type": "markdown",
   "metadata": {
    "collapsed": true
   },
   "source": [
    "Or even you can change the labels:"
   ]
  },
  {
   "cell_type": "code",
   "execution_count": null,
   "metadata": {
    "collapsed": true
   },
   "outputs": [],
   "source": [
    "xticklabels = ['$\\gamma$', '$\\delta$', 'apple', 'b', '', 'c'] \n",
    "ax.set_xticklabels(xticklabels, fontsize=18)\n",
    "fig"
   ]
  },
  {
   "cell_type": "markdown",
   "metadata": {},
   "source": [
    "### <span style=\"color:#0b486b\">2.8 Saving figures</span>\n"
   ]
  },
  {
   "cell_type": "code",
   "execution_count": null,
   "metadata": {
    "collapsed": true
   },
   "outputs": [],
   "source": [
    "x = np.linspace(0, 10)\n",
    "fig, ax = plt.subplots(figsize=(7, 5))\n",
    "ax.plot(x, np.sin(x), label='$sin(x)$')\n",
    "ax.plot(x, np.cos(x), label='$cos(x)$')\n",
    "ax.legend(fontsize=16, loc=3)\n",
    "fig.savefig('myfig.pdf', format='PDF', dpi=300)"
   ]
  },
  {
   "cell_type": "markdown",
   "metadata": {},
   "source": [
    "### <span style=\"color:#0b486b\">2.9 Other plot styles</span>\n",
    "\n",
    "There are many other plot types in addition to simple `'plot'` supported by `'matplotlib'`. You will find a complete list of them on [matplotlib gallery](http://matplotlib.org/gallery.html)."
   ]
  },
  {
   "cell_type": "markdown",
   "metadata": {},
   "source": [
    "#### <span style=\"color:#0b486b\">2.9.1 Scatter plot</span>\n",
    "\n"
   ]
  },
  {
   "cell_type": "code",
   "execution_count": null,
   "metadata": {
    "collapsed": true
   },
   "outputs": [],
   "source": [
    "fig, ax = plt.subplots()\n",
    "\n",
    "x = np.linspace(-0.75, 1., 100)\n",
    "ax.scatter(x, np.random.randn(x.shape[0]), \n",
    "                   s = 250*np.abs(np.random.randn(x.shape[0])), \n",
    "                   alpha=0.4,\n",
    "                  edgecolor='none')\n",
    "ax.set_title('scatter')"
   ]
  },
  {
   "cell_type": "markdown",
   "metadata": {},
   "source": [
    "#### <span style=\"color:#0b486b\">2.9.1 Bar plot</span>\n"
   ]
  },
  {
   "cell_type": "code",
   "execution_count": null,
   "metadata": {
    "collapsed": true
   },
   "outputs": [],
   "source": [
    "fig, ax = plt.subplots()\n",
    "\n",
    "x = np.arange(1, 6)\n",
    "ax.bar(x, x**2, align=\"center\")\n",
    "ax.set_title('bar')"
   ]
  },
  {
   "cell_type": "markdown",
   "metadata": {
    "collapsed": true
   },
   "source": [
    "---\n",
    "## <span style=\"color:#0b486b\">3. File I/O</span>"
   ]
  },
  {
   "cell_type": "markdown",
   "metadata": {},
   "source": [
    "### <span style=\"color:#0b486b\">3.1 TXT</span>\n"
   ]
  },
  {
   "cell_type": "markdown",
   "metadata": {},
   "source": [
    "TXT file format is the most simplestic way to store data. \n",
    "\n",
    "Load a TXT file with `'np.loadtxt()'`:"
   ]
  },
  {
   "cell_type": "code",
   "execution_count": null,
   "metadata": {
    "collapsed": true
   },
   "outputs": [],
   "source": [
    "x = np.loadtxt(\"data/txt_data1.txt\")\n",
    "x"
   ]
  },
  {
   "cell_type": "markdown",
   "metadata": {},
   "source": [
    "Save a TXT file with `'np.savetxt()'`:"
   ]
  },
  {
   "cell_type": "code",
   "execution_count": null,
   "metadata": {
    "collapsed": true
   },
   "outputs": [],
   "source": [
    "y = np.random.randint(10, size=5)\n",
    "np.savetxt(\"data/txt_data2.txt\", y)\n",
    "y"
   ]
  },
  {
   "cell_type": "markdown",
   "metadata": {
    "collapsed": true
   },
   "source": [
    "### <span style=\"color:#0b486b\">3.2 CSV</span>\n",
    "\n"
   ]
  },
  {
   "cell_type": "markdown",
   "metadata": {},
   "source": [
    "Comma Separated Values format and its variations, are one the most used file format to store data.\n",
    "\n",
    "You can use `'np.genfromtxt()'` to read a CSV file:\n",
    "**NOTE:** The best way to read CSV and XLS files is suing **pandas** package that will be introduced later."
   ]
  },
  {
   "cell_type": "code",
   "execution_count": null,
   "metadata": {
    "collapsed": true
   },
   "outputs": [],
   "source": [
    "x = np.genfromtxt(\"data/csv_data1.csv\", delimiter=\",\")\n",
    "x"
   ]
  },
  {
   "cell_type": "markdown",
   "metadata": {},
   "source": [
    "Use `'np.savetxt()'` to save a 2d-array in a CSV file."
   ]
  },
  {
   "cell_type": "code",
   "execution_count": null,
   "metadata": {
    "collapsed": true
   },
   "outputs": [],
   "source": [
    "x = np.random.randint(10, size=(6,4))\n",
    "np.savetxt(\"data/csv_data2.csv\", x, delimiter=',')\n",
    "x"
   ]
  },
  {
   "cell_type": "markdown",
   "metadata": {},
   "source": [
    "### <span style=\"color:#0b486b\">3.3 JSON</span>\n",
    "\n",
    "\n",
    "JSON is the most used file format when dealing with web services. \n",
    "\n",
    "To read a JSON file, use `'json'` package and `'load()'` function, or `'loads()'` if the data is serialized. It reads the data and parses it into a dictionary."
   ]
  },
  {
   "cell_type": "code",
   "execution_count": null,
   "metadata": {
    "collapsed": true
   },
   "outputs": [],
   "source": [
    "import json\n",
    "with open(\"data/json_data1.json\", 'rb') as fp:\n",
    "    fcontent = fp.read()\n",
    "data = json.loads(fcontent)\n",
    "data.keys()"
   ]
  },
  {
   "cell_type": "code",
   "execution_count": null,
   "metadata": {
    "collapsed": true
   },
   "outputs": [],
   "source": [
    "data\n"
   ]
  },
  {
   "cell_type": "code",
   "execution_count": null,
   "metadata": {
    "collapsed": true
   },
   "outputs": [],
   "source": [
    "data['phoneNumbers']"
   ]
  },
  {
   "cell_type": "markdown",
   "metadata": {},
   "source": [
    "You can also write a python dictionary into a JSON file. To do this use `'dump()'` or `'dumps()'` functions."
   ]
  },
  {
   "cell_type": "code",
   "execution_count": null,
   "metadata": {
    "collapsed": true
   },
   "outputs": [],
   "source": [
    "data = [{'Name': 'Zara', 'Age': 7, 'Class': 'First'}, \n",
    "        {'Name': 'Lily', 'Age': 9, 'Class': 'Third'}];\n",
    "data"
   ]
  },
  {
   "cell_type": "code",
   "execution_count": null,
   "metadata": {
    "collapsed": true
   },
   "outputs": [],
   "source": [
    "with open(\"data/json_data_now.json\", 'w') as fp:\n",
    "    json.dump(data, fp)"
   ]
  },
  {
   "cell_type": "markdown",
   "metadata": {},
   "source": [
    "---\n",
    "## <span style=\"color:#0b486b\">4. Plotting a histogram</span>\n"
   ]
  },
  {
   "cell_type": "markdown",
   "metadata": {},
   "source": [
    "### <span style=\"color:#0b486b\">4.1 Dataset</span>\n"
   ]
  },
  {
   "cell_type": "markdown",
   "metadata": {},
   "source": [
    "You are provided with a dataset of percentage of body fat and 10 simple body measurements recoreded for 252 men (courtesy of Journal of Statistics Education - JSE). You can read about this and other [JSE datasets here](http://www.amstat.org/publications/jse/jse_data_archive.htm).\n",
    "\n",
    "First load the data set into an array:"
   ]
  },
  {
   "cell_type": "code",
   "execution_count": null,
   "metadata": {
    "collapsed": true
   },
   "outputs": [],
   "source": [
    "import numpy as np"
   ]
  },
  {
   "cell_type": "code",
   "execution_count": null,
   "metadata": {
    "collapsed": true
   },
   "outputs": [],
   "source": [
    "data = np.genfromtxt(\"data/fat.dat.txt\")\n",
    "data.shape"
   ]
  },
  {
   "cell_type": "markdown",
   "metadata": {},
   "source": [
    "Based on the [dataset description](http://www.amstat.org/publications/jse/datasets/fat.txt), 5th column represents the weight in lbs. Index the weight column and call it `'weights'`:"
   ]
  },
  {
   "cell_type": "code",
   "execution_count": null,
   "metadata": {
    "collapsed": true
   },
   "outputs": [],
   "source": [
    "weights = data[:, 5]\n",
    "weights"
   ]
  },
  {
   "cell_type": "markdown",
   "metadata": {},
   "source": [
    "Use array operators to convert the weigts into kg. 1 lb equals to 0.453592 kg."
   ]
  },
  {
   "cell_type": "code",
   "execution_count": null,
   "metadata": {
    "collapsed": true
   },
   "outputs": [],
   "source": [
    "a = 3\n",
    "a = a + 4\n",
    "a += 4"
   ]
  },
  {
   "cell_type": "code",
   "execution_count": null,
   "metadata": {
    "collapsed": true
   },
   "outputs": [],
   "source": [
    "weights *= 0.453592\n",
    "weights = weights.round(2)\n",
    "weights"
   ]
  },
  {
   "cell_type": "markdown",
   "metadata": {},
   "source": [
    "### <span style=\"color:#0b486b\">4.2 Histogram</span>\n"
   ]
  },
  {
   "cell_type": "markdown",
   "metadata": {},
   "source": [
    "A histogtram is a bar plot that shows you the statistical distribution of the data over a variable. The bars represent the frequency of occurenve by classess of data. We use the package `'matplotlib'` and the function `'hist()'` for plotting the histogram. To learn more about `'matplotlib'` make sure you have read tutorial.\n",
    "\n",
    "The first line of the cell below if for showing the figure in the notebook and not opening it in a separate window."
   ]
  },
  {
   "cell_type": "code",
   "execution_count": null,
   "metadata": {
    "collapsed": true
   },
   "outputs": [],
   "source": [
    "%matplotlib inline\n",
    "import matplotlib.pyplot as plt"
   ]
  },
  {
   "cell_type": "code",
   "execution_count": null,
   "metadata": {
    "collapsed": true
   },
   "outputs": [],
   "source": [
    "fig, ax = plt.subplots()\n",
    "ax.hist(weights)"
   ]
  },
  {
   "cell_type": "markdown",
   "metadata": {},
   "source": [
    "The `'hist()'` functions automatically group the data over 10 bins. Usually you need to tweek the number of bins to obtain a more expressive histogram."
   ]
  },
  {
   "cell_type": "code",
   "execution_count": null,
   "metadata": {
    "collapsed": true
   },
   "outputs": [],
   "source": [
    "fig, ax = plt.subplots(figsize=(7, 5))\n",
    "ax.hist(weights, bins=20)\n",
    "# title\n",
    "# label"
   ]
  },
  {
   "cell_type": "markdown",
   "metadata": {},
   "source": [
    "### <span style=\"color:#0b486b\">4.3 Boxplot</span>\n",
    "\n",
    "A `Boxplot` is a convenient way to graphically display numerical data. "
   ]
  },
  {
   "cell_type": "code",
   "execution_count": null,
   "metadata": {
    "collapsed": true
   },
   "outputs": [],
   "source": [
    "import matplotlib\n",
    "fig, ax = matplotlib.pyplot.subplots(figsize=(7, 5))\n",
    "matplotlib.rcParams.update({'font.size': 14})\n",
    "ax.boxplot(weights, 0, labels=['group1'])\n",
    "ax.set_ylabel('weight (kg)', fontsize=16)\n",
    "ax.set_title('Weights BoxPlot', fontsize=16)"
   ]
  }
 ],
 "metadata": {
  "kernelspec": {
   "display_name": "Python 3",
   "language": "python",
   "name": "python3"
  },
  "language_info": {
   "codemirror_mode": {
    "name": "ipython",
    "version": 3
   },
   "file_extension": ".py",
   "mimetype": "text/x-python",
   "name": "python",
   "nbconvert_exporter": "python",
   "pygments_lexer": "ipython3",
   "version": "3.7.4"
  }
 },
 "nbformat": 4,
 "nbformat_minor": 1
}
