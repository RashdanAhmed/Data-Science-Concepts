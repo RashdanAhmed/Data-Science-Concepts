{
 "cells": [
  {
   "cell_type": "code",
   "execution_count": 6,
   "metadata": {},
   "outputs": [],
   "source": [
    "import numpy as np\n",
    "import math\n",
    "import datetime\n"
   ]
  },
  {
   "cell_type": "code",
   "execution_count": 3,
   "metadata": {},
   "outputs": [
    {
     "name": "stdout",
     "output_type": "stream",
     "text": [
      "39916800\n"
     ]
    }
   ],
   "source": [
    "def mathfac(x):\n",
    "    if x == 1:\n",
    "        return 1\n",
    "    else:\n",
    "        return x * mathfac(x - 1)\n",
    "\n",
    "print(mathfac(11))"
   ]
  },
  {
   "cell_type": "code",
   "execution_count": 4,
   "metadata": {},
   "outputs": [
    {
     "name": "stdout",
     "output_type": "stream",
     "text": [
      "Enter a number between -1 and 1: 0\n",
      "0.0 , 1.5707963267948966\n"
     ]
    }
   ],
   "source": [
    "x = input(\"Enter a number between -1 and 1: \")\n",
    "x = float(x)\n",
    "if x > -1 and x < 1:\n",
    "    print(f\"{x} , {math.acos(x)}\")\n",
    "else:\n",
    "    print(\"Enter a umber between -1 and 1\")\n",
    "    "
   ]
  },
  {
   "cell_type": "code",
   "execution_count": 8,
   "metadata": {},
   "outputs": [
    {
     "name": "stdout",
     "output_type": "stream",
     "text": [
      "11:21:33\n",
      "hour : 11\n",
      "minute: 21\n",
      "second: 33\n"
     ]
    }
   ],
   "source": [
    "#datetime module\n",
    "\n",
    "t = datetime.time(11, 21, 33)\n",
    "print(t)\n",
    "print('hour :', t.hour)\n",
    "print('minute:', t.minute)\n",
    "print('second:', t.second)"
   ]
  },
  {
   "cell_type": "code",
   "execution_count": 9,
   "metadata": {},
   "outputs": [
    {
     "name": "stdout",
     "output_type": "stream",
     "text": [
      "2020-09-11\n",
      "ctime: Fri Sep 11 00:00:00 2020\n",
      "tuple: time.struct_time(tm_year=2020, tm_mon=9, tm_mday=11, tm_hour=0, tm_min=0, tm_sec=0, tm_wday=4, tm_yday=255, tm_isdst=-1)\n",
      "ordinal: 737679\n",
      "Year: 2020\n"
     ]
    }
   ],
   "source": [
    "today = datetime.date.today()\n",
    "print(today)\n",
    "print('ctime:', today.ctime())\n",
    "print('tuple:',today.timetuple())\n",
    "print('ordinal:',today.toordinal())\n",
    "print('Year:', today.year)"
   ]
  },
  {
   "cell_type": "code",
   "execution_count": 13,
   "metadata": {},
   "outputs": [
    {
     "name": "stdout",
     "output_type": "stream",
     "text": [
      "d1: 2013-12-03\n",
      "d2: 2015-12-03\n"
     ]
    }
   ],
   "source": [
    "d1 = datetime.date(2013, 12, 3)\n",
    "print('d1:', d1)\n",
    "\n",
    "d2 = d1.replace(year=2015)\n",
    "print('d2:', d2)"
   ]
  },
  {
   "cell_type": "code",
   "execution_count": 19,
   "metadata": {},
   "outputs": [
    {
     "name": "stdout",
     "output_type": "stream",
     "text": [
      "day Tuesday\n"
     ]
    }
   ],
   "source": [
    "d1 = datetime.date(1999, 8, 17)\n",
    "bd = d1.weekday()\n",
    "list= (\"Monday\", \"Tuesday\", \"wednesday\", \"Thursday\", \"Friday\", \"Saturday\", \"Sunday\")\n"
   ]
  },
  {
   "cell_type": "code",
   "execution_count": 44,
   "metadata": {},
   "outputs": [
    {
     "name": "stdout",
     "output_type": "stream",
     "text": [
      "Today is Friday\n",
      "I was born on Tuesday\n",
      "and my birthday this year is on a Monday\n"
     ]
    }
   ],
   "source": [
    "day_of_week = {0 : 'Monday',\n",
    "              1: 'Tuesday',\n",
    "              2: 'Wednesday',\n",
    "              3: 'Thursday',\n",
    "              4: 'Friday',\n",
    "              5: 'Saturday',\n",
    "              6: 'Sunday'}\n",
    "\n",
    "print(\"Today is\", day_of_week[datetime.date.today().weekday()])\n",
    "my_birthdate = datetime.date(1999,8,17)\n",
    "print(\"I was born on\",day_of_week[my_birthdate.weekday()])\n",
    "t2 = my_birthdate.replace(year=2020)\n",
    "print(\"and my birthday this year is on a\", day_of_week[t2.weekday()])\n"
   ]
  },
  {
   "cell_type": "code",
   "execution_count": 26,
   "metadata": {},
   "outputs": [
    {
     "name": "stdout",
     "output_type": "stream",
     "text": [
      "2020-09-11 , 2020-09-11 10:23:20.351194\n",
      "2020-09-12 10:23:20.351194\n"
     ]
    }
   ],
   "source": [
    "today1 = datetime.date.today()\n",
    "today2 = datetime.datetime.today()\n",
    "print(f\"{today1} , {today2}\")\n",
    "\n",
    "tomorrow = today2 + datetime.timedelta(days=1)\n",
    "print(tomorrow)"
   ]
  },
  {
   "cell_type": "code",
   "execution_count": 27,
   "metadata": {},
   "outputs": [
    {
     "name": "stdout",
     "output_type": "stream",
     "text": [
      "ISO   : 2020-09-11 10:24:11.645244\n"
     ]
    }
   ],
   "source": [
    "today = datetime.datetime.today()\n",
    "print('ISO   :', today)"
   ]
  },
  {
   "cell_type": "code",
   "execution_count": 28,
   "metadata": {},
   "outputs": [
    {
     "name": "stdout",
     "output_type": "stream",
     "text": [
      "strftime: Fri Sep 11 10:24:11 2020\n"
     ]
    }
   ],
   "source": [
    "today = datetime.datetime.today()\n",
    "str_format = \"%a %b %d %H:%M:%S %Y\"\n",
    "s = today.strftime(str_format)\n",
    "print('strftime:', s)"
   ]
  },
  {
   "cell_type": "code",
   "execution_count": 32,
   "metadata": {},
   "outputs": [
    {
     "name": "stdout",
     "output_type": "stream",
     "text": [
      "strftime: 10:30:47 2020 Fri Sep 11\n"
     ]
    }
   ],
   "source": [
    "today = datetime.datetime.today()\n",
    "str_format = \"%H:%M:%S %Y %a %b %d\"\n",
    "c = today.strftime(str_format)\n",
    "print('strftime:', c)"
   ]
  },
  {
   "cell_type": "code",
   "execution_count": 33,
   "metadata": {},
   "outputs": [
    {
     "name": "stdout",
     "output_type": "stream",
     "text": [
      "10:30:47 2020 Fri Sep 11\n",
      "2020-09-11 10:30:47\n"
     ]
    }
   ],
   "source": [
    "print(c)\n",
    "\n",
    "d = datetime.datetime.strptime(c, str_format)\n",
    "print(d)"
   ]
  },
  {
   "cell_type": "code",
   "execution_count": 34,
   "metadata": {},
   "outputs": [
    {
     "name": "stdout",
     "output_type": "stream",
     "text": [
      "2015-07-30 00:00:00\n"
     ]
    }
   ],
   "source": [
    "s = \"07/30/2015\"\n",
    "str_format = \"%m/%d/%Y\"\n",
    "\n",
    "d = datetime.datetime.strptime(s, str_format)\n",
    "print(d)"
   ]
  },
  {
   "cell_type": "code",
   "execution_count": 45,
   "metadata": {},
   "outputs": [
    {
     "name": "stdout",
     "output_type": "stream",
     "text": [
      "7/30/2015 - 12:13\n"
     ]
    }
   ],
   "source": [
    "p = \"7/30/2015 - 12:13\"\n",
    "str_format = \"%m/%d/%Y - %H:%M\"\n",
    "d = datetime.datetime.strptime(p, str_format)\n",
    "print(p)"
   ]
  }
 ],
 "metadata": {
  "kernelspec": {
   "display_name": "Python 3",
   "language": "python",
   "name": "python3"
  },
  "language_info": {
   "codemirror_mode": {
    "name": "ipython",
    "version": 3
   },
   "file_extension": ".py",
   "mimetype": "text/x-python",
   "name": "python",
   "nbconvert_exporter": "python",
   "pygments_lexer": "ipython3",
   "version": "3.7.6"
  }
 },
 "nbformat": 4,
 "nbformat_minor": 4
}
