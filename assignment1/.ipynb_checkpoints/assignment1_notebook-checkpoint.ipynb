{
 "cells": [
  {
   "cell_type": "markdown",
   "metadata": {},
   "source": [
    "# <span style=\"color:#0b486b\">SIT 112 - Data Science Concepts - Assignment 1</span>\n",
    "\n",
    "---\n",
    "Lecturer: Truyen Tran | truyen.tran@deakin.edu.au<br />\n",
    "\n",
    "School of Information Technology, <br />\n",
    "Deakin University, VIC 3215, Australia.\n",
    "\n",
    "### <span style=\"color:#0b486b\">Due: 5pm, Friday 13th April 2018</span>\n",
    "\n",
    "---"
   ]
  },
  {
   "cell_type": "markdown",
   "metadata": {},
   "source": [
    "### <span style=\"color:#0b486b\">Instructions</span>\n",
    "\n",
    "This notebook has been prepared for you to complete Assignment 1. Some sections have been pre-filled  to help you get started. **The total mark for this programming task is 65**.\n",
    "\n",
    "1. Before you start, read the entire notebook carefully to understand what you need to do. You should also refer to the main instructions in *Assignment1_instructions.pdf*  to know what else you need to complete for this assignment.\n",
    "2. For each cell marked with *#INSERT YOUR CODE HERE*, you must write your own code in this cell.\n",
    "3. At the end, you must run the entire notebook and submit two files:\n",
    " 1. The source of your solution notebook: [YourID]_assignment1_solution.ipynb\n",
    " 2. And an exported version of your output: [YourID]_assignment1_output.html  \n",
    "       \n",
    "For example, if your student ID is 123456, then you need submit two files:\n",
    "\n",
    "1. **123456_assignment1_solution.ipynb**\n",
    "2. and **123456_assignment1_output.html**\n",
    "\n",
    "As you go through this notebook:\n",
    "\n",
    "* markdown cells marked with **Note** mean description sections.\n",
    "* markdown cells marked with **Instructions** mean the instructions given to you to complete the sections."
   ]
  },
  {
   "cell_type": "code",
   "execution_count": 22,
   "metadata": {},
   "outputs": [],
   "source": [
    "\"\"\"\n",
    "Import packages needed for processing\n",
    "\"\"\"\n",
    "import numpy as np   # import the numpy package\n",
    "import csv           # this package needed for processing csv file\n",
    "from collections import Counter  # this is for dictionary construction with counting functionality\n",
    "import matplotlib.pyplot as plt  # this is for plotting and other descriptive statistics\n",
    "import datetime      # this package is for handling time\n",
    "\n",
    "\"\"\"\n",
    "If you need add any additional packages, then add them below this line\n",
    "\"\"\"\n",
    "\n",
    "%matplotlib inline\n",
    "import operator"
   ]
  },
  {
   "cell_type": "markdown",
   "metadata": {},
   "source": [
    "**Note**: you must place your data file in the same folder with your python notebook."
   ]
  },
  {
   "cell_type": "code",
   "execution_count": 23,
   "metadata": {},
   "outputs": [],
   "source": [
    "# Declare the path to the data file\n",
    "DATA_FILE = \"medicare-office-locations.csv\""
   ]
  },
  {
   "cell_type": "markdown",
   "metadata": {},
   "source": [
    "**Note**. The following segment of codes is to load the data from the .csv file using csv package. It has been provided for you to get started. Please **do not** change this piece of code as well the variable names as we will need these variables to complete subsequent tasks. "
   ]
  },
  {
   "cell_type": "code",
   "execution_count": 24,
   "metadata": {},
   "outputs": [
    {
     "name": "stdout",
     "output_type": "stream",
     "text": [
      "dict_keys(['No.', 'OFFICE TYPE', 'SITE NAME', 'ADDRESS', 'SUBURB', 'STATE', 'POSTCODE', 'LATITUDE', 'LONGITUDE', 'Open', 'Close', 'Closed for lunch'])\n"
     ]
    }
   ],
   "source": [
    "# Load CSV file using DictReader\n",
    "input_file = csv.DictReader(open(DATA_FILE))\n",
    "fieldnames = input_file.fieldnames\n",
    "data_dict = {fn: [] for fn in fieldnames}\n",
    "print(data_dict.keys())\n",
    "for line in input_file:\n",
    "    for k, v in line.items():\n",
    "        try:\n",
    "            data_dict[k].append(int(v))\n",
    "        except ValueError:\n",
    "            try:\n",
    "                data_dict[k].append(float(v))\n",
    "            except ValueError:\n",
    "                data_dict[k].append(v)\n",
    "                \n",
    "for k, v in data_dict.items():\n",
    "    data_dict[k] = np.array(v)"
   ]
  },
  {
   "cell_type": "markdown",
   "metadata": {},
   "source": [
    "---\n",
    "## **Instruction 1**\n",
    "We first examine the variables and the overall data size. The tasks:\n",
    "\n",
    "1. Write your code to print the type for the following variables (**4 marks**):\n",
    "    * input_file\n",
    "    * data_dict\n",
    "    * data_dict['SUBURB']\n",
    "    * data_dict['STATE']\n",
    "    \n",
    "2. Write your code to print out the number of data records. (**1 mark**)\n",
    "\n",
    "[**Total mark: 5**]"
   ]
  },
  {
   "cell_type": "code",
   "execution_count": 25,
   "metadata": {},
   "outputs": [
    {
     "name": "stdout",
     "output_type": "stream",
     "text": [
      "<class 'csv.DictReader'>\n",
      "<class 'dict'>\n",
      "<class 'numpy.ndarray'>\n",
      "<class 'numpy.ndarray'>\n"
     ]
    }
   ],
   "source": [
    "# INSERT YOUR CODE HERE\n",
    "'''\n",
    "1. Write you code to print the type for the following variables:\n",
    "    * input_file\n",
    "    * data_dict\n",
    "    * data_dict['SUBURB']\n",
    "    * data_dict['STATE']\n",
    "'''\n",
    "print(type(input_file))\n",
    "print(type(data_dict))\n",
    "print(type(data_dict['SUBURB']))\n",
    "print(type(data_dict['STATE']))"
   ]
  },
  {
   "cell_type": "code",
   "execution_count": 105,
   "metadata": {},
   "outputs": [
    {
     "name": "stdout",
     "output_type": "stream",
     "text": [
      "239\n"
     ]
    }
   ],
   "source": [
    "# INSERT YOUR CODE HERE\n",
    "'''\n",
    "2. Write your code to print out the number of data records\n",
    "'''\n",
    "# count = 0\n",
    "# for x in data_dict:\n",
    "#     count += len(data_dict[x])\n",
    "# print(count)\n",
    "x = np.count_nonzero(data_dict['No.'])\n",
    "print(x)\n",
    "    "
   ]
  },
  {
   "cell_type": "markdown",
   "metadata": {},
   "source": [
    "---\n",
    "## Instruction 2\n",
    "The following code segment is designed to calculate some basic statistics from the data. \n",
    "\n",
    "**Your task:**\n",
    "1. Write your code to find and print the minimum and the maximum values in the **LATITUDE** column. (**1 mark**)\n",
    "2. Write your code to find and print the minimum and maximum values of the **LONGITUDE** column. (**1 marks**)\n",
    "3. Write your code to find and print the central point of all the locations. This point is a pair of the average of latitudes *(the **LATITUDE** column)* and the average of longitudes *(the **LONGITUDE** column)*. (**3 marks**)\n",
    "\n",
    "**[Total mark: 5]**"
   ]
  },
  {
   "cell_type": "code",
   "execution_count": 107,
   "metadata": {},
   "outputs": [
    {
     "name": "stdout",
     "output_type": "stream",
     "text": [
      "Minimum: -42.97638\n",
      "Maximum: -12.37187\n"
     ]
    }
   ],
   "source": [
    "# INSERT YOUR CODE HERE\n",
    "\"\"\"\n",
    "1. Write your code to find and print the minimum and the maximum values in the **LATITUDE** column.\n",
    "\"\"\"\n",
    "print(\"Minimum:\",min(data_dict['LATITUDE']))\n",
    "print(\"Maximum:\",max(data_dict['LATITUDE']))"
   ]
  },
  {
   "cell_type": "code",
   "execution_count": 108,
   "metadata": {},
   "outputs": [
    {
     "name": "stdout",
     "output_type": "stream",
     "text": [
      "Minimum: 114.61273\n",
      "Maximum: 153.55671\n"
     ]
    }
   ],
   "source": [
    "# INSERT YOUR CODE HERE\n",
    "\"\"\"\n",
    "2. Write your code to find and print the minimum and maximum values of the **LONGITUDE** column.\n",
    "\"\"\"\n",
    "print(\"Minimum:\",min(data_dict['LONGITUDE']))\n",
    "print(\"Maximum:\",max(data_dict['LONGITUDE']))\n"
   ]
  },
  {
   "cell_type": "code",
   "execution_count": 109,
   "metadata": {},
   "outputs": [
    {
     "name": "stdout",
     "output_type": "stream",
     "text": [
      "Central point:  -32.476501799163174 , 145.58025615062763\n"
     ]
    }
   ],
   "source": [
    "# INSERT YOUR CODE HERE\n",
    "\"\"\"\n",
    "3. Write your code to find and print the central point of all the locations. \n",
    "This point is a pair of the average of latitudes *(the **LATITUDE** column)* \n",
    "    and the average of longitudes *(the **LONGITUDE** column)*\n",
    "\"\"\"\n",
    "lat = np.average(data_dict['LATITUDE'])\n",
    "long = np.average(data_dict['LONGITUDE'])\n",
    "print(\"Central point: \",lat,\",\",long)\n",
    "    "
   ]
  },
  {
   "cell_type": "markdown",
   "metadata": {},
   "source": [
    "---\n",
    "## **Instruction 3**\n",
    "The following code segment is designed to examine data from the **STATE** column. This column provides information about the states of medical centers.\n",
    "\n",
    "\n",
    "**Your tasks**:\n",
    "\n",
    "1. Write your code to find and print out the number of **unique** states. (**3 marks**)\n",
    "2. Write your code to find and print out the list of states that appears more than **ten** times in the dataset. (**3 marks**)\n",
    "3. Write your code to find and print out the state with highest frequency. Both the state name and frequency need to be printed out (**3 marks**)\n",
    "4. Write your code to construct a dictionary variable: ***state_popularity*** whose keys are unique states and values are the corresponding counts computed from the dataset. Print the dictionary. (**3 marks**)\n",
    "5. Plot a bar chart for ***state_popularity*** sorted in descending order of values. (**3 marks**)\n",
    "\n",
    "[**Total mark: 15**]"
   ]
  },
  {
   "cell_type": "code",
   "execution_count": 30,
   "metadata": {},
   "outputs": [
    {
     "name": "stdout",
     "output_type": "stream",
     "text": [
      "8\n"
     ]
    }
   ],
   "source": [
    "# INSERT YOUR CODE HERE \n",
    "\"\"\"\n",
    "1. Write your code to find and print out the number of **unique** states.\n",
    "Hint: you might want to use np.unique\n",
    "\"\"\"\n",
    "u = np.unique(data_dict['STATE'])\n",
    "print(len(u))"
   ]
  },
  {
   "cell_type": "code",
   "execution_count": 31,
   "metadata": {},
   "outputs": [
    {
     "name": "stdout",
     "output_type": "stream",
     "text": [
      "['NSW', 'QLD', 'SA', 'VIC', 'WA']\n"
     ]
    }
   ],
   "source": [
    "# INSERT YOUR CODE HERE \n",
    "\"\"\"\n",
    "2. Write your code to find and print out the list of states \n",
    "    that appears more than **ten** times in the dataset.\n",
    "\n",
    "Hint: read the documention for function numpy.unique carefully and examine what does it return.\n",
    "\"\"\"\n",
    "values, counts = np.unique(data_dict['STATE'], return_counts = True)\n",
    "values_l = values.tolist()\n",
    "counts_l = counts.tolist()\n",
    "state_list = []\n",
    "for v,c in zip(values_l, counts_l):\n",
    "    if c > 10:\n",
    "        state_list.append(v)\n",
    "print(state_list)"
   ]
  },
  {
   "cell_type": "code",
   "execution_count": 32,
   "metadata": {},
   "outputs": [
    {
     "name": "stdout",
     "output_type": "stream",
     "text": [
      "NSW 87\n"
     ]
    }
   ],
   "source": [
    "# INSERT YOUR CODE HERE \n",
    "\"\"\"\n",
    "3. Write your code to find and print out the state with highest frequency. \n",
    "Both the state name and frequency need to be printed out\n",
    "\"\"\"\n",
    "values, counts = np.unique(data_dict['STATE'], return_counts = True)\n",
    "state = np.argmax(counts)\n",
    "count_max = max(counts)\n",
    "print(values[state], count_max)\n"
   ]
  },
  {
   "cell_type": "code",
   "execution_count": 33,
   "metadata": {},
   "outputs": [
    {
     "name": "stdout",
     "output_type": "stream",
     "text": [
      "{'ACT': 5, 'NSW': 87, 'NT': 4, 'QLD': 49, 'SA': 14, 'TAS': 7, 'VIC': 54, 'WA': 19}\n"
     ]
    }
   ],
   "source": [
    "# INSERT YOUR CODE HERE \n",
    "\"\"\"\n",
    "4. Write your code to construct a dictionary variable: ***state_popularity*** \n",
    "    whose keys are unique states and values are the corresponding counts computed from the dataset.\n",
    "Print the dictionary.\n",
    "\"\"\"\n",
    "values, counts = np.unique(data_dict['STATE'], return_counts = True)\n",
    "state_popularity = {}\n",
    "for V,C in zip(values, counts):\n",
    "    state_popularity[V] = C\n",
    "\n",
    "print(state_popularity)\n",
    "    "
   ]
  },
  {
   "cell_type": "code",
   "execution_count": 112,
   "metadata": {},
   "outputs": [
    {
     "data": {
      "image/png": "[encoded data removed]",
      "text/plain": [
       "<Figure size 1152x576 with 1 Axes>"
      ]
     },
     "metadata": {
      "needs_background": "light"
     },
     "output_type": "display_data"
    }
   ],
   "source": [
    "# INSERT YOUR CODE HERE \n",
    "'''\n",
    "5. Plot a bar chart for state_popularity sorted in descending order of values.\n",
    "'''\n",
    "fig, ax = plt.subplots(figsize = (16, 8))\n",
    "state_popularity_d = dict(sorted(state_popularity.items(), key=operator.itemgetter(1),reverse=True))\n",
    "keys = state_popularity_d.keys()\n",
    "values = state_popularity_d.values()\n",
    "ax.set_xlabel('State')\n",
    "ax.set_ylabel('Frequency')\n",
    "\n",
    "\n",
    "plt.bar(keys, values);"
   ]
  },
  {
   "cell_type": "markdown",
   "metadata": {},
   "source": [
    "---\n",
    "## **Instruction 4**\n",
    "We shall examine the opening hours of the medicare offices. The time is a string in the format: **'Hour:Minute:Second'**. If the time is not in the correct form, the opening duration of the office is **invalid**. Run the cell below:"
   ]
  },
  {
   "cell_type": "code",
   "execution_count": 35,
   "metadata": {},
   "outputs": [
    {
     "name": "stdout",
     "output_type": "stream",
     "text": [
      "8:30:00\n",
      "16:30:00\n"
     ]
    }
   ],
   "source": [
    "# print the opening time and closing time of the first medicare office.\n",
    "\n",
    "print(data_dict['Open'][0])\n",
    "print(data_dict['Close'][0])\n",
    "\n",
    "\n",
    "\n",
    "\n"
   ]
  },
  {
   "cell_type": "markdown",
   "metadata": {},
   "source": [
    "**Your tasks**:\n",
    "\n",
    "1. Define a function called `compute_opening_duration` that takes two strings: the opening time and the closing time as the inputs and return the opening duration in hours. If the opening time or the closing time are not in the correct form, the function returns -1. (**7 marks**)\n",
    "2. Write your code to calculate an array called **opening_duration_list** that stores the opening duration of all medicare offices. Store the array as a numpy array. Print the first 10 entries in the array. (**3 mark**)\n",
    "3. Construct a new array called **valid_opening_duration_list** to store only valid opening duration entries and then print out the number of elements in the array. (**3 marks**)\n",
    "4. Print the min, max, median and construct a box-plot for variable **valid_opening_duration_list**. (**5 marks**)\n",
    "\n",
    "[**Total mark: 18**]"
   ]
  },
  {
   "cell_type": "code",
   "execution_count": 36,
   "metadata": {},
   "outputs": [
    {
     "name": "stdout",
     "output_type": "stream",
     "text": [
      "8.0\n",
      "-1\n"
     ]
    }
   ],
   "source": [
    "'''\n",
    "1. Define a function called `compute_opening_duration` to calculate the duration of the opening time. \n",
    "The function takes two strings: the opening time and the closing time as the inputs and return the opening duration in hours.\n",
    "The opening time and the closing time are in the form 'Hour:Minute:Second'.\n",
    "If the opening time or the closing time are not in the correct form, the function returns -1.\n",
    "\n",
    "Example: \n",
    "    opening time: '8:30:00', closing time: '16:00:00', return 7.5\n",
    "    opening time: '9:00:00', closing time: '16:15:00', return 7.25\n",
    "    opening time: '8:30:00', closing time: 'evening', return -1\n",
    "    \n",
    "Hint: you might want to use datetime package\n",
    "'''\n",
    "from datetime import datetime\n",
    "def compute_opening_duration(opening_time, closing_time):\n",
    "    '''\n",
    "    Input: two string: opening_time and closing_time\n",
    "    Output: the opening duration in hours\n",
    "    Return -1 if any time is in incorrect form.\n",
    "    '''\n",
    "    # INSERT YOUR CODE HERE\n",
    "    try:\n",
    "        o_time = datetime.strptime(opening_time, '%H:%M:%S')\n",
    "        c_time = datetime.strptime(closing_time, '%H:%M:%S')\n",
    "        delta = c_time - o_time\n",
    "        x = delta.seconds / 3600\n",
    "        return x\n",
    "    except:\n",
    "        return -1\n",
    "   \n",
    "\n",
    "    \n",
    "print(compute_opening_duration(data_dict['Open'][0],data_dict['Close'][0]))\n",
    "print(compute_opening_duration(data_dict['Open'][15],data_dict['Close'][15]))\n",
    "\n",
    "\n",
    "\n"
   ]
  },
  {
   "cell_type": "code",
   "execution_count": 37,
   "metadata": {},
   "outputs": [
    {
     "name": "stdout",
     "output_type": "stream",
     "text": [
      "The first 10 entries in the array: [8.  8.5 6.5 7.5 6.5 6.5 8.5 6.5 7.5 6.5]\n"
     ]
    }
   ],
   "source": [
    "# INSERT YOUR CODE HERE\n",
    "\"\"\"\n",
    "2. Write your code to calculate an array called **opening_duration_list** \n",
    "    that stores the opening duration of all medicare offices.\n",
    "Store the array as a numpy array.\n",
    "Print the first 10 entries in the array. \n",
    "\"\"\"\n",
    "x = [compute_opening_duration(opening_time, closing_time)for opening_time, closing_time in zip(data_dict['Open'], data_dict['Close'])]\n",
    "                                \n",
    "opening_duration_list = np.array(x)\n",
    "\n",
    "print(f\"The first 10 entries in the array: {opening_duration_list[:10]}\")\n"
   ]
  },
  {
   "cell_type": "code",
   "execution_count": 38,
   "metadata": {},
   "outputs": [
    {
     "name": "stdout",
     "output_type": "stream",
     "text": [
      "Number of valid opening duration: 235\n"
     ]
    }
   ],
   "source": [
    "# INSERT YOUR CODE HERE \n",
    "\"\"\"\n",
    "3. Construct a new array called **valid_opening_duration_list** to store only valid opening duration entries and \n",
    "then print out the number of elements in the array.\n",
    "\"\"\"\n",
    "y = np.where(opening_duration_list != -1)[0]\n",
    "valid_opening_duration_list = opening_duration_list[y]\n",
    "\n",
    "print('Number of valid opening duration:', len(valid_opening_duration_list))"
   ]
  },
  {
   "cell_type": "code",
   "execution_count": 39,
   "metadata": {},
   "outputs": [
    {
     "name": "stdout",
     "output_type": "stream",
     "text": [
      "Minimum: 6.5\n",
      "Maximum: 9.0\n",
      "Median: 8.0\n"
     ]
    },
    {
     "data": {
      "image/png": "[encoded data removed]",
      "text/plain": [
       "<Figure size 864x432 with 1 Axes>"
      ]
     },
     "metadata": {
      "needs_background": "light"
     },
     "output_type": "display_data"
    }
   ],
   "source": [
    "# INSERT YOUR CODE HERE\n",
    "\"\"\"\n",
    "4. Print the min, max, median and construct a box-plot for variable **valid_opening_duration_list**\n",
    "\"\"\"\n",
    "print(\"Minimum:\", np.min(valid_opening_duration_list))\n",
    "print(\"Maximum:\", np.max(valid_opening_duration_list))\n",
    "print(\"Median:\", np.median(valid_opening_duration_list))\n",
    "\n",
    "fig, ax = plt.subplots(figsize=(12, 6))\n",
    "\n",
    "ax.boxplot(valid_opening_duration_list, labels=['Duration'])\n",
    "ax.set_title(\"Valid Opening duration list\")\n",
    "ax.set_ylabel(\"hours\");"
   ]
  },
  {
   "cell_type": "markdown",
   "metadata": {},
   "source": [
    "---\n",
    "## **Instruction 5**\n",
    "Continue from the previous steps, **your tasks are:**\n",
    "\n",
    "1. Write your code to find and print all the invalid entry indices. An entry is invalid when its opening duration is invalid. (**5 marks**).\n",
    "2. Write your code to filter out all invalid entries and store your data into a new variable **data_dict_cleaned** and print out the number of data records after being cleaned. (**5 marks**)\n",
    "\n",
    "[**Total mark: 10**]"
   ]
  },
  {
   "cell_type": "code",
   "execution_count": 40,
   "metadata": {},
   "outputs": [
    {
     "name": "stdout",
     "output_type": "stream",
     "text": [
      "invalid entry indices: [ 15  35 127 220]\n"
     ]
    }
   ],
   "source": [
    "# INSERT YOUR CODE HERE\n",
    "\"\"\"\n",
    "1. Write your code to find and print all the invalid entry indices.\n",
    " You might want to use np.where function.\n",
    "\"\"\"\n",
    "x = np.where(opening_duration_list == -1)[0]\n",
    "\n",
    "\n",
    "print(\"invalid entry indices:\", x)"
   ]
  },
  {
   "cell_type": "code",
   "execution_count": 41,
   "metadata": {},
   "outputs": [
    {
     "name": "stdout",
     "output_type": "stream",
     "text": [
      "235\n"
     ]
    }
   ],
   "source": [
    "# INSERT YOUR CODE HERE\n",
    "\"\"\"\n",
    "2. Write your code to filter out all invalid entries \n",
    "and store your data into a new variable data_dict_cleaned\n",
    "and print out the number of data records after being cleaned.\n",
    "\"\"\"\n",
    "y = np.where(opening_duration_list != -1)[0]\n",
    "data_dict_cleaned = {}\n",
    "\n",
    "for key in data_dict:\n",
    "    data_dict_cleaned[key] = data_dict[key][y]\n",
    "\n",
    "print(len(data_dict_cleaned['Open']))\n"
   ]
  },
  {
   "cell_type": "markdown",
   "metadata": {
    "collapsed": true
   },
   "source": [
    "---\n",
    "## **Instruction 6**\n",
    "The following code segment is designed to examine data from **ADDRESS** column.\n",
    "\n",
    "We say that an address is **valid** if it contains the number and the name of the street, which are separated by spaces. The formats for a valid street name is **\"stNumber stName\"** or **\"stNumber1-stNumber2 stName\"**, where **stNumber**, **stNumber1** and **stNumber2** are positive numbers and **stName** is any non-empty string. For example, **20 St Kilda Road** and **100-104 Elliott Avenue** are valid addresses while **St Kilda Road** and **0 Elliott Avenue** are invalid addresses.\n",
    "\n",
    "**Your tasks**:\n",
    "\n",
    "1. Define a function called `valid_address` that takes a string `address` and returns `True` if `address` is valid and `False` otherwise. (**7 marks**)\n",
    "2. Write your code to **further** filter out all entries with invalid addresses, and store your cleaned data into the new variable named ***data_dict_cleaned2*** and print out the number of data records after being cleaned. (**5 marks**)\n",
    "\n",
    "**Note:** \n",
    "1. All street numbers if exist in an address are integers. There is at most a hyphen in an address to connect two street numbers.\n",
    "2. In reality, an address can be \"Shop 3, 10 St Kilda Road\". However, for simplicity, we only consider the valid address contains street numbers and a street name.\n",
    "\n",
    "[**Total mark: 12**]"
   ]
  },
  {
   "cell_type": "code",
   "execution_count": 62,
   "metadata": {},
   "outputs": [
    {
     "name": "stdout",
     "output_type": "stream",
     "text": [
      "['40-42 William Street' '246-248 Beardy Street' '433-439 Melbourne Road'\n",
      " '307 Ross River Road' '15 Peels Place' '3 Cook Street'\n",
      " '5 Railway Terrace' '100 MacMillan Street' '45-47 King Street'\n",
      " 'Shop 79, Westfield Shoppingtown, 29-35 Louis Street' '430 Wilson Street'\n",
      " '117-121 Tamar Street' '88 Atherton Road' '23 Marine Terrace'\n",
      " '38 Wingecarribee Street' '331 Charlestown Road (Level 1)'\n",
      " '14 Napier Terrace' '49-61 Church Street' '3 Flora Crescent'\n",
      " '56 Railway Parade' '60-62 MacLeod Street' '26 Woongarra Street'\n",
      " 'Stockyard Lane' '5 Riverview Drive' '19-23 Hollywood Avenue'\n",
      " '180 Beryl Street' '8 First Avenue (ground floor)'\n",
      " '16-22 Pearcedale Parade' 'Level 1, Northpoint Plaza, 8 Chandler Street'\n",
      " '231-245 Lyttleton Terrace' '53 George Street' '4-12 Albert Street'\n",
      " '166-168 Russell Street' '54-56 Wittenoom Street' '55 Osborne Road'\n",
      " '2-14 Meredith Street' '3-13 Harrow Street' '21-25 Duke Street'\n",
      " '46 Hickey Street' 'Corio Village Shopping Centre Purnell Road'\n",
      " '93-95 Brisbane Street' '132-136 Henley Beach Road' '16-22 Murray Street'\n",
      " '8-10 Browne Street' '13 Lonsdale Street' '54 Canberra Terrace'\n",
      " '7-9 Codrington Street' '172-186 Moreland Road (ground floor)'\n",
      " 'Corner Anderson and Chapel Street' '186-194 Vincent Street'\n",
      " '9 Alexander Kelly Drive' '65 Massie Street' '1290-1298 Albany Highway'\n",
      " '108 Bromfield Street' '42 Redland Bay Road' '18 Banfield Street'\n",
      " '104 Grafton Street' '50 Bradshaw Terrace' '159 Bloomfield Street'\n",
      " '56-64 Archer Street'\n",
      " 'Deception Bay Shopping Centre, Corner Maine Terrace and Bay Avenue'\n",
      " '21 Yarra Street' '27-29 Robinson Street'\n",
      " 'Ground Floor, 24 Knuckey Street' '64 Wingewarra Street'\n",
      " '167 William Street' '34-36 Patrick Street' '10 Langford Drive'\n",
      " '19-27 Devlin Street'\n",
      " 'Level 5, Robina Town Centre, 19-33 Robina Town Centre Drive'\n",
      " '21 Egerton Street' '69 Heygarth Street' '11 Queen Victoria St'\n",
      " '29-33 Barbara Street' '71-73 Webb Street'\n",
      " 'Shop GO1Q, Bayside Shopping Centre' '75 Moore Street'\n",
      " '16-20 Grimshaw Street' '23 High Street' '159 Auburn Street'\n",
      " '57 Sanders Street' '9 Watt Street' '164-170 Goondoon Street'\n",
      " '12-14 Little Ryrie Street' '95-97 Yambil Street'\n",
      " 'Gungahlin Marketplace 33 Hibberson Street' '27 OConnell Street'\n",
      " '4-8 King Street' 'Corner Forrest Street and Chapman Road'\n",
      " '34 Chandos Street' '7 Bogong Avenue' '455 Main Rd' '125 High Street'\n",
      " '103 Harvester Road' '258 Gray Street' '135-137 Pacific Highway'\n",
      " 'Corner Darlot and McLachlan Streets' '30-38 Barrack Street'\n",
      " '87 Ellersdale Avenue' '6 Hunter St' '78 East Street' '158 Otho Street'\n",
      " '48 Herbert Street' '72 Ernest Street' '17-19 Lissner Street'\n",
      " '68 Reid Promenade' '33-35 Waratah Street'\n",
      " 'Corner Egan and Porter Street' '279-287 Oxley Avenue'\n",
      " '21 Markwell Street' '188-194 Maitland Road'\n",
      " '40 Hasler Road, Osborne Park' '113 Point Cartwright Drive'\n",
      " '68-70 Elbow Street' '47 Conway Street' '3 Forrow Drive'\n",
      " '211-231 Northumberland Street (ground floor)' '8 Boland Street'\n",
      " '23 Balmain Road' '176 Mort Street'\n",
      " 'Woodgrove Shopping Centre Barries Road' '15 Keane Street'\n",
      " '332 Main Street' '38 Rudloc Road' '15-21 President Avenue'\n",
      " '226 High Street' '13 Bowra Street' '20-22 George Street'\n",
      " 'Lot 72 Byron Place' '24-26 Tuckey Street' '30-32 West Street'\n",
      " '12 Greenfields Boulevard' 'Corner Chapel and Elgin Street'\n",
      " '8 Warracowie Way' '11 Auburn Street' '137-153 Crown Street'\n",
      " '1 William Street' '14 Wirraway Parade' '207 Lennox Street'\n",
      " '482-490 Racecourse Road' '5 Percy Street' '112-124 Deakin Avenue'\n",
      " '164-166 Bridge Street' '5 Maud Street'\n",
      " 'Shop 34 & 35, Narooma Plaza, 185 Princes Highway' '275-279 King Street'\n",
      " '251 Murray Street' '9 Doyle Street' 'Corner Currie and Maud Street'\n",
      " '4 Lawrence Avenue' '189-191 Anson Street' '2 Maluka Street'\n",
      " '8-10 Gawler Street' '255 High Street' '207-209 Pitt Street'\n",
      " '2-12 Macquarie Street' '136-138 Maroubra Road'\n",
      " '598 High Street (Corner Worth Street)' '25 Treloar Lane'\n",
      " '5-7 Short Street' '53 Gertrude Street' '57-59 Currajong Street'\n",
      " '8 Edinburgh Street' '21-23 Mackay Street' '183 Crawford Street'\n",
      " '309-311 George Street' '18 Civic Boulevarde' '190-194 Musgrave Street'\n",
      " '3 Jetty Road' '2 Gordons Hill Road' '19-21 Anglo Road'\n",
      " '37-39 Sturgeon Street' '5 Fulham Road' '2-6 Bond Street'\n",
      " '150-154 York Street'\n",
      " 'Shops 77 / 77a, Smithfield Shopping Centre, Corner Kennedy and Cook Highways'\n",
      " '242 Gympie Road' '107-109 Macquarie Road' '296-298 Maude Street'\n",
      " '36 Eton Street' '6 William Street' '1242a Nepean Highway'\n",
      " 'Shop G2 and OA22, Shellharbour Square Shopping Centre, Lake Entrance Road'\n",
      " '5-15 Suter Street' '221-227 Beveridge Street'\n",
      " '12-20 Bell Street (ground floor)'\n",
      " 'Corner Kern Brothers Drive and Hervey Range Road'\n",
      " '16-18 Fairview Avenue'\n",
      " 'Units 1 and 2, Tuggeranong Square, Corner Anketell and Sheering Streets'\n",
      " '219-223 Peel Street' '1283-1285 Sandgate Road' '2-6 Donnelly Avenue'\n",
      " '184-188 Victoria Street' '100 Blundell Boulevard' '96 Reservoir Road'\n",
      " '25-27 Hely Street' '116 Manning Street' '270-272 Green Street'\n",
      " '87-89 Blackwall Road' '89-91 Synnot Street' '21 Station Street'\n",
      " '23-25 Faithful Street' '109 Lava Street' '70 Robert Street'\n",
      " '43 Burelli Street, ground and level 1' '169 Nicholson Avenue'\n",
      " '37-39 Albion Street' '42 Queen Street'\n",
      " 'Building C, Ground Floor, Penrhyn House, 2-6 Bowes Street'\n",
      " 'Westfield Warrawong, Suite 1, Corner King and Cowper Streets'\n",
      " '72 Lipson Street' '324-334 Springvale Road' '63 Tompson Street'\n",
      " '89 Tingal Road' 'Shop GR76, Rouse Hill Town Centre, 10-14 Market Lane'\n",
      " '617-619 Victoria Street' '130 Lovell Street'\n",
      " 'Shop 7, Ashmore City Shopping Centre, Corner Nerang and Currumburra Road'\n",
      " '660-664 Pittwater Road'\n",
      " 'Shop 13-14, Gateway Centre, Marmion St (Davey Street)'\n",
      " 'Shop 1, Hilltop Plaza, 324 Charlestown Road (co-located in NDIA premises)'\n",
      " '527 Riversdale Road'\n",
      " 'Shop 256, Castle Towers Shopping Centre, 6-14 Castle Street'\n",
      " 'Shop 1025, Ground Floor, Westfield Carindale, 1151 Creek Road'\n",
      " 'Shop E17 Ground Floor, Galleria Shopping Centre, 385 Bourke Street'\n",
      " 'Shop 218b Level 1, Westfield Hurstville, Corner Cross Street and Park Road'\n",
      " 'Service Tasmania, Channel Court, Shop 87A, 29 Channel Highway'\n",
      " 'Shop 1091, Knox City Shopping Centre, Corner Burwood Highway and Stud Road'\n",
      " '143 Turbot Street' 'Shop 1, Subiaco Village, 531 Hay Street'\n",
      " '88 Seymour Street' 'Belmont Forum Shopping Centre, 227 Belmont Ave'\n",
      " 'Shop 43, Warriewood Shopping Centre, Corner Jacksons and Boondah Road'\n",
      " 'Shop 702, Town and Country Shopping World, Princes Highway'\n",
      " 'Cnr Albert & Turbot St' '32 Martin Place' '88 Grenfell St' '770 Hay St'\n",
      " '430 Wilson Street']\n",
      "239\n"
     ]
    }
   ],
   "source": [
    "print(data_dict['ADDRESS'])\n",
    "print(len(data_dict['ADDRESS']))"
   ]
  },
  {
   "cell_type": "code",
   "execution_count": 101,
   "metadata": {},
   "outputs": [
    {
     "name": "stdout",
     "output_type": "stream",
     "text": [
      "True\n",
      "False\n"
     ]
    }
   ],
   "source": [
    "# INSERT YOUR CODE HERE\n",
    "'''\n",
    "1. Define a function called valid_address that takes a string address and\n",
    "returns True if address is valid and False otherwise.\n",
    "'''\n",
    "def valid_address(address):\n",
    "    addr = address.split()\n",
    "    number = addr[0].split('-')\n",
    "    for x in number:\n",
    "        if x.isdigit():\n",
    "            x = int(x)\n",
    "            if x == 0:\n",
    "                return False\n",
    "            else:\n",
    "                return True\n",
    "        return False\n",
    "\n",
    "            \n",
    "            \n",
    "    \n",
    "        \n",
    "            \n",
    "           \n",
    "      \n",
    "        \n",
    "        \n",
    "    \n",
    "print(valid_address(data_dict['ADDRESS'][0]))\n",
    "print(valid_address(data_dict['ADDRESS'][9]))"
   ]
  },
  {
   "cell_type": "code",
   "execution_count": 102,
   "metadata": {},
   "outputs": [
    {
     "name": "stdout",
     "output_type": "stream",
     "text": [
      "196\n"
     ]
    }
   ],
   "source": [
    "# INSERT YOUR CODE HERE\n",
    "\"\"\"\n",
    "2. Write your code to further filter out all entries with invalid addresses, and store your cleaned data \n",
    "    into the new variable named data_dict_cleaned2 and print out the number of data records \n",
    "    after being cleaned.\n",
    "\"\"\"\n",
    "indices = [x for x, address in enumerate(data_dict_cleaned['ADDRESS']) if valid_address(address)]\n",
    "\n",
    "data_dict_cleaned2 = {}\n",
    "for key in data_dict:\n",
    "    data_dict_cleaned2[key] = data_dict_cleaned[key][indices]\n",
    "    \n",
    "print(len(data_dict_cleaned2['ADDRESS']))\n",
    "    "
   ]
  },
  {
   "cell_type": "code",
   "execution_count": 113,
   "metadata": {},
   "outputs": [
    {
     "data": {
      "text/plain": [
       "0"
      ]
     },
     "execution_count": 113,
     "metadata": {},
     "output_type": "execute_result"
    }
   ],
   "source": [
    "import os\n",
    "\n",
    "os.system('jupyter nbconvert --to html assignment1_notebook.ipynb')"
   ]
  }
 ],
 "metadata": {
  "kernelspec": {
   "display_name": "Python 3",
   "language": "python",
   "name": "python3"
  },
  "language_info": {
   "codemirror_mode": {
    "name": "ipython",
    "version": 3
   },
   "file_extension": ".py",
   "mimetype": "text/x-python",
   "name": "python",
   "nbconvert_exporter": "python",
   "pygments_lexer": "ipython3",
   "version": "3.7.6"
  }
 },
 "nbformat": 4,
 "nbformat_minor": 1
}
